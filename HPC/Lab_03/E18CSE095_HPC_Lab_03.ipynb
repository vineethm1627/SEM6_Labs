{
 "cells": [
  {
   "cell_type": "markdown",
   "metadata": {},
   "source": [
    "### Name: M.Vineeth\n",
    "### Roll No: E18CSE095\n",
    "### Batch: EB03"
   ]
  },
  {
   "cell_type": "markdown",
   "metadata": {},
   "source": [
    "AI/Machine Learning services available on Cloud uses HPC for accommodating frequent calls from millions of users. Here are some questions for applications of HPC in Machine Learning. Scenario here is you are providing cloud HPC (similar to Azure/AWS/GCP) for training and testing of machine learning models on large datasets. In this lab we are going to implement task parallelism for training different machine learning models on the large-scale dataset “BitcoinHeistRansomwareAddressDataset Data Set” containing 3M samples of Bitcoin ransomware attack data available at\n",
    "https://archive.ics.uci.edu/ml/datasets/BitcoinHeistRansomwareAddressDataset\n",
    "Training and testing ML/DL models on large scale datasets serially will be taking a lot of time. Hence we go parallel."
   ]
  },
  {
   "cell_type": "code",
   "execution_count": 1,
   "metadata": {},
   "outputs": [
    {
     "data": {
      "text/plain": [
       "(2916697, 10)"
      ]
     },
     "execution_count": 1,
     "metadata": {},
     "output_type": "execute_result"
    }
   ],
   "source": [
    "# loading the csv file\n",
    "import numpy as np\n",
    "import pandas as pd\n",
    "\n",
    "data = pd.read_csv(\"BitcoinHeistData.csv\")\n",
    "data.shape"
   ]
  },
  {
   "cell_type": "code",
   "execution_count": 2,
   "metadata": {},
   "outputs": [
    {
     "data": {
      "text/html": [
       "<div>\n",
       "<style scoped>\n",
       "    .dataframe tbody tr th:only-of-type {\n",
       "        vertical-align: middle;\n",
       "    }\n",
       "\n",
       "    .dataframe tbody tr th {\n",
       "        vertical-align: top;\n",
       "    }\n",
       "\n",
       "    .dataframe thead th {\n",
       "        text-align: right;\n",
       "    }\n",
       "</style>\n",
       "<table border=\"1\" class=\"dataframe\">\n",
       "  <thead>\n",
       "    <tr style=\"text-align: right;\">\n",
       "      <th></th>\n",
       "      <th>address</th>\n",
       "      <th>year</th>\n",
       "      <th>day</th>\n",
       "      <th>length</th>\n",
       "      <th>weight</th>\n",
       "      <th>count</th>\n",
       "      <th>looped</th>\n",
       "      <th>neighbors</th>\n",
       "      <th>income</th>\n",
       "      <th>label</th>\n",
       "    </tr>\n",
       "  </thead>\n",
       "  <tbody>\n",
       "    <tr>\n",
       "      <th>0</th>\n",
       "      <td>111K8kZAEnJg245r2cM6y9zgJGHZtJPy6</td>\n",
       "      <td>2017</td>\n",
       "      <td>11</td>\n",
       "      <td>18</td>\n",
       "      <td>8.333333e-03</td>\n",
       "      <td>1</td>\n",
       "      <td>0</td>\n",
       "      <td>2</td>\n",
       "      <td>100050000.0</td>\n",
       "      <td>princetonCerber</td>\n",
       "    </tr>\n",
       "    <tr>\n",
       "      <th>1</th>\n",
       "      <td>1123pJv8jzeFQaCV4w644pzQJzVWay2zcA</td>\n",
       "      <td>2016</td>\n",
       "      <td>132</td>\n",
       "      <td>44</td>\n",
       "      <td>2.441406e-04</td>\n",
       "      <td>1</td>\n",
       "      <td>0</td>\n",
       "      <td>1</td>\n",
       "      <td>100000000.0</td>\n",
       "      <td>princetonLocky</td>\n",
       "    </tr>\n",
       "    <tr>\n",
       "      <th>2</th>\n",
       "      <td>112536im7hy6wtKbpH1qYDWtTyMRAcA2p7</td>\n",
       "      <td>2016</td>\n",
       "      <td>246</td>\n",
       "      <td>0</td>\n",
       "      <td>1.000000e+00</td>\n",
       "      <td>1</td>\n",
       "      <td>0</td>\n",
       "      <td>2</td>\n",
       "      <td>200000000.0</td>\n",
       "      <td>princetonCerber</td>\n",
       "    </tr>\n",
       "    <tr>\n",
       "      <th>3</th>\n",
       "      <td>1126eDRw2wqSkWosjTCre8cjjQW8sSeWH7</td>\n",
       "      <td>2016</td>\n",
       "      <td>322</td>\n",
       "      <td>72</td>\n",
       "      <td>3.906250e-03</td>\n",
       "      <td>1</td>\n",
       "      <td>0</td>\n",
       "      <td>2</td>\n",
       "      <td>71200000.0</td>\n",
       "      <td>princetonCerber</td>\n",
       "    </tr>\n",
       "    <tr>\n",
       "      <th>4</th>\n",
       "      <td>1129TSjKtx65E35GiUo4AYVeyo48twbrGX</td>\n",
       "      <td>2016</td>\n",
       "      <td>238</td>\n",
       "      <td>144</td>\n",
       "      <td>7.284841e-02</td>\n",
       "      <td>456</td>\n",
       "      <td>0</td>\n",
       "      <td>1</td>\n",
       "      <td>200000000.0</td>\n",
       "      <td>princetonLocky</td>\n",
       "    </tr>\n",
       "    <tr>\n",
       "      <th>5</th>\n",
       "      <td>112AmFATxzhuSpvtz1hfpa3Zrw3BG276pc</td>\n",
       "      <td>2016</td>\n",
       "      <td>96</td>\n",
       "      <td>144</td>\n",
       "      <td>8.461400e-02</td>\n",
       "      <td>2821</td>\n",
       "      <td>0</td>\n",
       "      <td>1</td>\n",
       "      <td>50000000.0</td>\n",
       "      <td>princetonLocky</td>\n",
       "    </tr>\n",
       "    <tr>\n",
       "      <th>6</th>\n",
       "      <td>112E91jxS2qrQY1z78LPWUWrLVFGqbYPQ1</td>\n",
       "      <td>2016</td>\n",
       "      <td>225</td>\n",
       "      <td>142</td>\n",
       "      <td>2.088519e-03</td>\n",
       "      <td>881</td>\n",
       "      <td>0</td>\n",
       "      <td>2</td>\n",
       "      <td>100000000.0</td>\n",
       "      <td>princetonCerber</td>\n",
       "    </tr>\n",
       "    <tr>\n",
       "      <th>7</th>\n",
       "      <td>112eFykaD53KEkKeYW9KW8eWebZYSbt2f5</td>\n",
       "      <td>2016</td>\n",
       "      <td>324</td>\n",
       "      <td>78</td>\n",
       "      <td>3.906250e-03</td>\n",
       "      <td>1</td>\n",
       "      <td>0</td>\n",
       "      <td>2</td>\n",
       "      <td>100990000.0</td>\n",
       "      <td>princetonCerber</td>\n",
       "    </tr>\n",
       "    <tr>\n",
       "      <th>8</th>\n",
       "      <td>112FTiRdJjMrNgEtd4fvdoq3TC33Ah5Dep</td>\n",
       "      <td>2016</td>\n",
       "      <td>298</td>\n",
       "      <td>144</td>\n",
       "      <td>2.302828e+00</td>\n",
       "      <td>4220</td>\n",
       "      <td>0</td>\n",
       "      <td>2</td>\n",
       "      <td>80000000.0</td>\n",
       "      <td>princetonCerber</td>\n",
       "    </tr>\n",
       "    <tr>\n",
       "      <th>9</th>\n",
       "      <td>112GocBgFSnaote6krx828qaockFraD8mp</td>\n",
       "      <td>2016</td>\n",
       "      <td>62</td>\n",
       "      <td>112</td>\n",
       "      <td>3.725290e-09</td>\n",
       "      <td>1</td>\n",
       "      <td>0</td>\n",
       "      <td>1</td>\n",
       "      <td>50000000.0</td>\n",
       "      <td>princetonLocky</td>\n",
       "    </tr>\n",
       "  </tbody>\n",
       "</table>\n",
       "</div>"
      ],
      "text/plain": [
       "                              address  year  day  length        weight  count  \\\n",
       "0   111K8kZAEnJg245r2cM6y9zgJGHZtJPy6  2017   11      18  8.333333e-03      1   \n",
       "1  1123pJv8jzeFQaCV4w644pzQJzVWay2zcA  2016  132      44  2.441406e-04      1   \n",
       "2  112536im7hy6wtKbpH1qYDWtTyMRAcA2p7  2016  246       0  1.000000e+00      1   \n",
       "3  1126eDRw2wqSkWosjTCre8cjjQW8sSeWH7  2016  322      72  3.906250e-03      1   \n",
       "4  1129TSjKtx65E35GiUo4AYVeyo48twbrGX  2016  238     144  7.284841e-02    456   \n",
       "5  112AmFATxzhuSpvtz1hfpa3Zrw3BG276pc  2016   96     144  8.461400e-02   2821   \n",
       "6  112E91jxS2qrQY1z78LPWUWrLVFGqbYPQ1  2016  225     142  2.088519e-03    881   \n",
       "7  112eFykaD53KEkKeYW9KW8eWebZYSbt2f5  2016  324      78  3.906250e-03      1   \n",
       "8  112FTiRdJjMrNgEtd4fvdoq3TC33Ah5Dep  2016  298     144  2.302828e+00   4220   \n",
       "9  112GocBgFSnaote6krx828qaockFraD8mp  2016   62     112  3.725290e-09      1   \n",
       "\n",
       "   looped  neighbors       income            label  \n",
       "0       0          2  100050000.0  princetonCerber  \n",
       "1       0          1  100000000.0   princetonLocky  \n",
       "2       0          2  200000000.0  princetonCerber  \n",
       "3       0          2   71200000.0  princetonCerber  \n",
       "4       0          1  200000000.0   princetonLocky  \n",
       "5       0          1   50000000.0   princetonLocky  \n",
       "6       0          2  100000000.0  princetonCerber  \n",
       "7       0          2  100990000.0  princetonCerber  \n",
       "8       0          2   80000000.0  princetonCerber  \n",
       "9       0          1   50000000.0   princetonLocky  "
      ]
     },
     "execution_count": 2,
     "metadata": {},
     "output_type": "execute_result"
    }
   ],
   "source": [
    "data.head(10)"
   ]
  },
  {
   "cell_type": "code",
   "execution_count": 3,
   "metadata": {},
   "outputs": [
    {
     "name": "stdout",
     "output_type": "stream",
     "text": [
      "['princetonCerber', 'princetonLocky', 'montrealCryptoLocker', 'montrealCryptXXX', 'paduaCryptoWall', 'montrealWannaCry', 'montrealDMALockerv3', 'montrealCryptoTorLocker2015', 'montrealSamSam', 'montrealFlyper', 'montrealNoobCrypt', 'montrealDMALocker', 'montrealGlobe', 'montrealEDA2', 'paduaKeRanger', 'montrealVenusLocker', 'montrealXTPLocker', 'paduaJigsaw', 'montrealGlobev3', 'montrealJigSaw', 'montrealXLockerv5.0', 'montrealXLocker', 'montrealRazy', 'montrealCryptConsole', 'montrealGlobeImposter', 'montrealSam', 'montrealComradeCircle', 'montrealAPT', 'white']\n"
     ]
    }
   ],
   "source": [
    "classes = list(data['label'].unique())\n",
    "print(classes)"
   ]
  },
  {
   "cell_type": "code",
   "execution_count": 4,
   "metadata": {},
   "outputs": [
    {
     "name": "stdout",
     "output_type": "stream",
     "text": [
      "No. of classes:  29\n"
     ]
    }
   ],
   "source": [
    "print(\"No. of classes: \", len(classes))"
   ]
  },
  {
   "cell_type": "code",
   "execution_count": 5,
   "metadata": {},
   "outputs": [
    {
     "name": "stdout",
     "output_type": "stream",
     "text": [
      "[2017 2016 2013 2014 2015 2012 2011 2018]\n",
      "[    0     1  3283 ... 11938  7168  8173]\n"
     ]
    }
   ],
   "source": [
    "for i in [\"year\", \"looped\"]:\n",
    "    print(data[i].unique())"
   ]
  },
  {
   "cell_type": "code",
   "execution_count": 6,
   "metadata": {
    "scrolled": true
   },
   "outputs": [
    {
     "data": {
      "text/html": [
       "<div>\n",
       "<style scoped>\n",
       "    .dataframe tbody tr th:only-of-type {\n",
       "        vertical-align: middle;\n",
       "    }\n",
       "\n",
       "    .dataframe tbody tr th {\n",
       "        vertical-align: top;\n",
       "    }\n",
       "\n",
       "    .dataframe thead th {\n",
       "        text-align: right;\n",
       "    }\n",
       "</style>\n",
       "<table border=\"1\" class=\"dataframe\">\n",
       "  <thead>\n",
       "    <tr style=\"text-align: right;\">\n",
       "      <th></th>\n",
       "      <th>address</th>\n",
       "      <th>year</th>\n",
       "      <th>day</th>\n",
       "      <th>length</th>\n",
       "      <th>weight</th>\n",
       "      <th>count</th>\n",
       "      <th>looped</th>\n",
       "      <th>neighbors</th>\n",
       "      <th>income</th>\n",
       "      <th>label</th>\n",
       "    </tr>\n",
       "  </thead>\n",
       "  <tbody>\n",
       "    <tr>\n",
       "      <th>0</th>\n",
       "      <td>111K8kZAEnJg245r2cM6y9zgJGHZtJPy6</td>\n",
       "      <td>2017</td>\n",
       "      <td>11</td>\n",
       "      <td>18</td>\n",
       "      <td>8.333333e-03</td>\n",
       "      <td>1</td>\n",
       "      <td>0</td>\n",
       "      <td>2</td>\n",
       "      <td>100050000.0</td>\n",
       "      <td>26</td>\n",
       "    </tr>\n",
       "    <tr>\n",
       "      <th>1</th>\n",
       "      <td>1123pJv8jzeFQaCV4w644pzQJzVWay2zcA</td>\n",
       "      <td>2016</td>\n",
       "      <td>132</td>\n",
       "      <td>44</td>\n",
       "      <td>2.441406e-04</td>\n",
       "      <td>1</td>\n",
       "      <td>0</td>\n",
       "      <td>1</td>\n",
       "      <td>100000000.0</td>\n",
       "      <td>27</td>\n",
       "    </tr>\n",
       "    <tr>\n",
       "      <th>2</th>\n",
       "      <td>112536im7hy6wtKbpH1qYDWtTyMRAcA2p7</td>\n",
       "      <td>2016</td>\n",
       "      <td>246</td>\n",
       "      <td>0</td>\n",
       "      <td>1.000000e+00</td>\n",
       "      <td>1</td>\n",
       "      <td>0</td>\n",
       "      <td>2</td>\n",
       "      <td>200000000.0</td>\n",
       "      <td>26</td>\n",
       "    </tr>\n",
       "    <tr>\n",
       "      <th>3</th>\n",
       "      <td>1126eDRw2wqSkWosjTCre8cjjQW8sSeWH7</td>\n",
       "      <td>2016</td>\n",
       "      <td>322</td>\n",
       "      <td>72</td>\n",
       "      <td>3.906250e-03</td>\n",
       "      <td>1</td>\n",
       "      <td>0</td>\n",
       "      <td>2</td>\n",
       "      <td>71200000.0</td>\n",
       "      <td>26</td>\n",
       "    </tr>\n",
       "    <tr>\n",
       "      <th>4</th>\n",
       "      <td>1129TSjKtx65E35GiUo4AYVeyo48twbrGX</td>\n",
       "      <td>2016</td>\n",
       "      <td>238</td>\n",
       "      <td>144</td>\n",
       "      <td>7.284841e-02</td>\n",
       "      <td>456</td>\n",
       "      <td>0</td>\n",
       "      <td>1</td>\n",
       "      <td>200000000.0</td>\n",
       "      <td>27</td>\n",
       "    </tr>\n",
       "    <tr>\n",
       "      <th>5</th>\n",
       "      <td>112AmFATxzhuSpvtz1hfpa3Zrw3BG276pc</td>\n",
       "      <td>2016</td>\n",
       "      <td>96</td>\n",
       "      <td>144</td>\n",
       "      <td>8.461400e-02</td>\n",
       "      <td>2821</td>\n",
       "      <td>0</td>\n",
       "      <td>1</td>\n",
       "      <td>50000000.0</td>\n",
       "      <td>27</td>\n",
       "    </tr>\n",
       "    <tr>\n",
       "      <th>6</th>\n",
       "      <td>112E91jxS2qrQY1z78LPWUWrLVFGqbYPQ1</td>\n",
       "      <td>2016</td>\n",
       "      <td>225</td>\n",
       "      <td>142</td>\n",
       "      <td>2.088519e-03</td>\n",
       "      <td>881</td>\n",
       "      <td>0</td>\n",
       "      <td>2</td>\n",
       "      <td>100000000.0</td>\n",
       "      <td>26</td>\n",
       "    </tr>\n",
       "    <tr>\n",
       "      <th>7</th>\n",
       "      <td>112eFykaD53KEkKeYW9KW8eWebZYSbt2f5</td>\n",
       "      <td>2016</td>\n",
       "      <td>324</td>\n",
       "      <td>78</td>\n",
       "      <td>3.906250e-03</td>\n",
       "      <td>1</td>\n",
       "      <td>0</td>\n",
       "      <td>2</td>\n",
       "      <td>100990000.0</td>\n",
       "      <td>26</td>\n",
       "    </tr>\n",
       "    <tr>\n",
       "      <th>8</th>\n",
       "      <td>112FTiRdJjMrNgEtd4fvdoq3TC33Ah5Dep</td>\n",
       "      <td>2016</td>\n",
       "      <td>298</td>\n",
       "      <td>144</td>\n",
       "      <td>2.302828e+00</td>\n",
       "      <td>4220</td>\n",
       "      <td>0</td>\n",
       "      <td>2</td>\n",
       "      <td>80000000.0</td>\n",
       "      <td>26</td>\n",
       "    </tr>\n",
       "    <tr>\n",
       "      <th>9</th>\n",
       "      <td>112GocBgFSnaote6krx828qaockFraD8mp</td>\n",
       "      <td>2016</td>\n",
       "      <td>62</td>\n",
       "      <td>112</td>\n",
       "      <td>3.725290e-09</td>\n",
       "      <td>1</td>\n",
       "      <td>0</td>\n",
       "      <td>1</td>\n",
       "      <td>50000000.0</td>\n",
       "      <td>27</td>\n",
       "    </tr>\n",
       "  </tbody>\n",
       "</table>\n",
       "</div>"
      ],
      "text/plain": [
       "                              address  year  day  length        weight  count  \\\n",
       "0   111K8kZAEnJg245r2cM6y9zgJGHZtJPy6  2017   11      18  8.333333e-03      1   \n",
       "1  1123pJv8jzeFQaCV4w644pzQJzVWay2zcA  2016  132      44  2.441406e-04      1   \n",
       "2  112536im7hy6wtKbpH1qYDWtTyMRAcA2p7  2016  246       0  1.000000e+00      1   \n",
       "3  1126eDRw2wqSkWosjTCre8cjjQW8sSeWH7  2016  322      72  3.906250e-03      1   \n",
       "4  1129TSjKtx65E35GiUo4AYVeyo48twbrGX  2016  238     144  7.284841e-02    456   \n",
       "5  112AmFATxzhuSpvtz1hfpa3Zrw3BG276pc  2016   96     144  8.461400e-02   2821   \n",
       "6  112E91jxS2qrQY1z78LPWUWrLVFGqbYPQ1  2016  225     142  2.088519e-03    881   \n",
       "7  112eFykaD53KEkKeYW9KW8eWebZYSbt2f5  2016  324      78  3.906250e-03      1   \n",
       "8  112FTiRdJjMrNgEtd4fvdoq3TC33Ah5Dep  2016  298     144  2.302828e+00   4220   \n",
       "9  112GocBgFSnaote6krx828qaockFraD8mp  2016   62     112  3.725290e-09      1   \n",
       "\n",
       "   looped  neighbors       income  label  \n",
       "0       0          2  100050000.0     26  \n",
       "1       0          1  100000000.0     27  \n",
       "2       0          2  200000000.0     26  \n",
       "3       0          2   71200000.0     26  \n",
       "4       0          1  200000000.0     27  \n",
       "5       0          1   50000000.0     27  \n",
       "6       0          2  100000000.0     26  \n",
       "7       0          2  100990000.0     26  \n",
       "8       0          2   80000000.0     26  \n",
       "9       0          1   50000000.0     27  "
      ]
     },
     "execution_count": 6,
     "metadata": {},
     "output_type": "execute_result"
    }
   ],
   "source": [
    "# let's encode the label column\n",
    "\n",
    "from sklearn.preprocessing import LabelEncoder\n",
    "\n",
    "le = LabelEncoder()\n",
    "data.label = le.fit_transform(data.label.values)\n",
    "data.head(10)"
   ]
  },
  {
   "cell_type": "code",
   "execution_count": 7,
   "metadata": {},
   "outputs": [
    {
     "data": {
      "text/html": [
       "<div>\n",
       "<style scoped>\n",
       "    .dataframe tbody tr th:only-of-type {\n",
       "        vertical-align: middle;\n",
       "    }\n",
       "\n",
       "    .dataframe tbody tr th {\n",
       "        vertical-align: top;\n",
       "    }\n",
       "\n",
       "    .dataframe thead th {\n",
       "        text-align: right;\n",
       "    }\n",
       "</style>\n",
       "<table border=\"1\" class=\"dataframe\">\n",
       "  <thead>\n",
       "    <tr style=\"text-align: right;\">\n",
       "      <th></th>\n",
       "      <th>address</th>\n",
       "      <th>year</th>\n",
       "      <th>day</th>\n",
       "      <th>length</th>\n",
       "      <th>weight</th>\n",
       "      <th>count</th>\n",
       "      <th>looped</th>\n",
       "      <th>neighbors</th>\n",
       "      <th>income</th>\n",
       "      <th>label</th>\n",
       "    </tr>\n",
       "  </thead>\n",
       "  <tbody>\n",
       "    <tr>\n",
       "      <th>0</th>\n",
       "      <td>23</td>\n",
       "      <td>2017</td>\n",
       "      <td>11</td>\n",
       "      <td>18</td>\n",
       "      <td>8.333333e-03</td>\n",
       "      <td>1</td>\n",
       "      <td>0</td>\n",
       "      <td>2</td>\n",
       "      <td>100050000.0</td>\n",
       "      <td>26</td>\n",
       "    </tr>\n",
       "    <tr>\n",
       "      <th>1</th>\n",
       "      <td>128</td>\n",
       "      <td>2016</td>\n",
       "      <td>132</td>\n",
       "      <td>44</td>\n",
       "      <td>2.441406e-04</td>\n",
       "      <td>1</td>\n",
       "      <td>0</td>\n",
       "      <td>1</td>\n",
       "      <td>100000000.0</td>\n",
       "      <td>27</td>\n",
       "    </tr>\n",
       "    <tr>\n",
       "      <th>2</th>\n",
       "      <td>169</td>\n",
       "      <td>2016</td>\n",
       "      <td>246</td>\n",
       "      <td>0</td>\n",
       "      <td>1.000000e+00</td>\n",
       "      <td>1</td>\n",
       "      <td>0</td>\n",
       "      <td>2</td>\n",
       "      <td>200000000.0</td>\n",
       "      <td>26</td>\n",
       "    </tr>\n",
       "    <tr>\n",
       "      <th>3</th>\n",
       "      <td>217</td>\n",
       "      <td>2016</td>\n",
       "      <td>322</td>\n",
       "      <td>72</td>\n",
       "      <td>3.906250e-03</td>\n",
       "      <td>1</td>\n",
       "      <td>0</td>\n",
       "      <td>2</td>\n",
       "      <td>71200000.0</td>\n",
       "      <td>26</td>\n",
       "    </tr>\n",
       "    <tr>\n",
       "      <th>4</th>\n",
       "      <td>293</td>\n",
       "      <td>2016</td>\n",
       "      <td>238</td>\n",
       "      <td>144</td>\n",
       "      <td>7.284841e-02</td>\n",
       "      <td>456</td>\n",
       "      <td>0</td>\n",
       "      <td>1</td>\n",
       "      <td>200000000.0</td>\n",
       "      <td>27</td>\n",
       "    </tr>\n",
       "    <tr>\n",
       "      <th>5</th>\n",
       "      <td>335</td>\n",
       "      <td>2016</td>\n",
       "      <td>96</td>\n",
       "      <td>144</td>\n",
       "      <td>8.461400e-02</td>\n",
       "      <td>2821</td>\n",
       "      <td>0</td>\n",
       "      <td>1</td>\n",
       "      <td>50000000.0</td>\n",
       "      <td>27</td>\n",
       "    </tr>\n",
       "    <tr>\n",
       "      <th>6</th>\n",
       "      <td>437</td>\n",
       "      <td>2016</td>\n",
       "      <td>225</td>\n",
       "      <td>142</td>\n",
       "      <td>2.088519e-03</td>\n",
       "      <td>881</td>\n",
       "      <td>0</td>\n",
       "      <td>2</td>\n",
       "      <td>100000000.0</td>\n",
       "      <td>26</td>\n",
       "    </tr>\n",
       "    <tr>\n",
       "      <th>7</th>\n",
       "      <td>1194</td>\n",
       "      <td>2016</td>\n",
       "      <td>324</td>\n",
       "      <td>78</td>\n",
       "      <td>3.906250e-03</td>\n",
       "      <td>1</td>\n",
       "      <td>0</td>\n",
       "      <td>2</td>\n",
       "      <td>100990000.0</td>\n",
       "      <td>26</td>\n",
       "    </tr>\n",
       "    <tr>\n",
       "      <th>8</th>\n",
       "      <td>477</td>\n",
       "      <td>2016</td>\n",
       "      <td>298</td>\n",
       "      <td>144</td>\n",
       "      <td>2.302828e+00</td>\n",
       "      <td>4220</td>\n",
       "      <td>0</td>\n",
       "      <td>2</td>\n",
       "      <td>80000000.0</td>\n",
       "      <td>26</td>\n",
       "    </tr>\n",
       "    <tr>\n",
       "      <th>9</th>\n",
       "      <td>518</td>\n",
       "      <td>2016</td>\n",
       "      <td>62</td>\n",
       "      <td>112</td>\n",
       "      <td>3.725290e-09</td>\n",
       "      <td>1</td>\n",
       "      <td>0</td>\n",
       "      <td>1</td>\n",
       "      <td>50000000.0</td>\n",
       "      <td>27</td>\n",
       "    </tr>\n",
       "  </tbody>\n",
       "</table>\n",
       "</div>"
      ],
      "text/plain": [
       "   address  year  day  length        weight  count  looped  neighbors  \\\n",
       "0       23  2017   11      18  8.333333e-03      1       0          2   \n",
       "1      128  2016  132      44  2.441406e-04      1       0          1   \n",
       "2      169  2016  246       0  1.000000e+00      1       0          2   \n",
       "3      217  2016  322      72  3.906250e-03      1       0          2   \n",
       "4      293  2016  238     144  7.284841e-02    456       0          1   \n",
       "5      335  2016   96     144  8.461400e-02   2821       0          1   \n",
       "6      437  2016  225     142  2.088519e-03    881       0          2   \n",
       "7     1194  2016  324      78  3.906250e-03      1       0          2   \n",
       "8      477  2016  298     144  2.302828e+00   4220       0          2   \n",
       "9      518  2016   62     112  3.725290e-09      1       0          1   \n",
       "\n",
       "        income  label  \n",
       "0  100050000.0     26  \n",
       "1  100000000.0     27  \n",
       "2  200000000.0     26  \n",
       "3   71200000.0     26  \n",
       "4  200000000.0     27  \n",
       "5   50000000.0     27  \n",
       "6  100000000.0     26  \n",
       "7  100990000.0     26  \n",
       "8   80000000.0     26  \n",
       "9   50000000.0     27  "
      ]
     },
     "execution_count": 7,
     "metadata": {},
     "output_type": "execute_result"
    }
   ],
   "source": [
    "# label encode the address values\n",
    "\n",
    "le = LabelEncoder()\n",
    "data[\"address\"] = le.fit_transform(data[\"address\"].values)\n",
    "data.head(10)"
   ]
  },
  {
   "cell_type": "code",
   "execution_count": 8,
   "metadata": {},
   "outputs": [
    {
     "data": {
      "text/html": [
       "<div>\n",
       "<style scoped>\n",
       "    .dataframe tbody tr th:only-of-type {\n",
       "        vertical-align: middle;\n",
       "    }\n",
       "\n",
       "    .dataframe tbody tr th {\n",
       "        vertical-align: top;\n",
       "    }\n",
       "\n",
       "    .dataframe thead th {\n",
       "        text-align: right;\n",
       "    }\n",
       "</style>\n",
       "<table border=\"1\" class=\"dataframe\">\n",
       "  <thead>\n",
       "    <tr style=\"text-align: right;\">\n",
       "      <th></th>\n",
       "      <th>address</th>\n",
       "      <th>year</th>\n",
       "      <th>day</th>\n",
       "      <th>length</th>\n",
       "      <th>weight</th>\n",
       "      <th>count</th>\n",
       "      <th>looped</th>\n",
       "      <th>neighbors</th>\n",
       "      <th>income</th>\n",
       "      <th>label</th>\n",
       "    </tr>\n",
       "  </thead>\n",
       "  <tbody>\n",
       "    <tr>\n",
       "      <th>0</th>\n",
       "      <td>23</td>\n",
       "      <td>2017</td>\n",
       "      <td>11</td>\n",
       "      <td>18</td>\n",
       "      <td>0.008333</td>\n",
       "      <td>1</td>\n",
       "      <td>0</td>\n",
       "      <td>2</td>\n",
       "      <td>1.401999e-06</td>\n",
       "      <td>26</td>\n",
       "    </tr>\n",
       "    <tr>\n",
       "      <th>1</th>\n",
       "      <td>128</td>\n",
       "      <td>2016</td>\n",
       "      <td>132</td>\n",
       "      <td>44</td>\n",
       "      <td>0.000244</td>\n",
       "      <td>1</td>\n",
       "      <td>0</td>\n",
       "      <td>1</td>\n",
       "      <td>1.400998e-06</td>\n",
       "      <td>27</td>\n",
       "    </tr>\n",
       "    <tr>\n",
       "      <th>2</th>\n",
       "      <td>169</td>\n",
       "      <td>2016</td>\n",
       "      <td>246</td>\n",
       "      <td>0</td>\n",
       "      <td>1.000000</td>\n",
       "      <td>1</td>\n",
       "      <td>0</td>\n",
       "      <td>2</td>\n",
       "      <td>3.402425e-06</td>\n",
       "      <td>26</td>\n",
       "    </tr>\n",
       "    <tr>\n",
       "      <th>3</th>\n",
       "      <td>217</td>\n",
       "      <td>2016</td>\n",
       "      <td>322</td>\n",
       "      <td>72</td>\n",
       "      <td>0.003906</td>\n",
       "      <td>1</td>\n",
       "      <td>0</td>\n",
       "      <td>2</td>\n",
       "      <td>8.245876e-07</td>\n",
       "      <td>26</td>\n",
       "    </tr>\n",
       "    <tr>\n",
       "      <th>4</th>\n",
       "      <td>293</td>\n",
       "      <td>2016</td>\n",
       "      <td>238</td>\n",
       "      <td>144</td>\n",
       "      <td>0.072848</td>\n",
       "      <td>456</td>\n",
       "      <td>0</td>\n",
       "      <td>1</td>\n",
       "      <td>3.402425e-06</td>\n",
       "      <td>27</td>\n",
       "    </tr>\n",
       "  </tbody>\n",
       "</table>\n",
       "</div>"
      ],
      "text/plain": [
       "   address  year  day  length    weight  count  looped  neighbors  \\\n",
       "0       23  2017   11      18  0.008333      1       0          2   \n",
       "1      128  2016  132      44  0.000244      1       0          1   \n",
       "2      169  2016  246       0  1.000000      1       0          2   \n",
       "3      217  2016  322      72  0.003906      1       0          2   \n",
       "4      293  2016  238     144  0.072848    456       0          1   \n",
       "\n",
       "         income  label  \n",
       "0  1.401999e-06     26  \n",
       "1  1.400998e-06     27  \n",
       "2  3.402425e-06     26  \n",
       "3  8.245876e-07     26  \n",
       "4  3.402425e-06     27  "
      ]
     },
     "execution_count": 8,
     "metadata": {},
     "output_type": "execute_result"
    }
   ],
   "source": [
    "# scale the income values\n",
    "\n",
    "from sklearn.preprocessing import MinMaxScaler\n",
    "\n",
    "scaler = MinMaxScaler()\n",
    "data[\"income\"] = scaler.fit_transform(np.array(data[\"income\"]).reshape(-1, 1))\n",
    "data.head()"
   ]
  },
  {
   "cell_type": "code",
   "execution_count": 9,
   "metadata": {},
   "outputs": [
    {
     "name": "stdout",
     "output_type": "stream",
     "text": [
      "0.0\n",
      "1.0\n"
     ]
    }
   ],
   "source": [
    "# sanity check \n",
    "\n",
    "print(np.min(data[\"income\"]))\n",
    "print(np.max(data[\"income\"]))"
   ]
  },
  {
   "cell_type": "code",
   "execution_count": 10,
   "metadata": {},
   "outputs": [
    {
     "name": "stdout",
     "output_type": "stream",
     "text": [
      "X shape:  (2916697, 9)\n",
      "y shape:  (2916697,)\n"
     ]
    }
   ],
   "source": [
    "# defining input and ouput\n",
    "\n",
    "X = data.drop(columns = ['label'], axis = 1).values\n",
    "y = data['label'].values\n",
    "\n",
    "print(\"X shape: \", X.shape)\n",
    "print(\"y shape: \", y.shape)"
   ]
  },
  {
   "cell_type": "code",
   "execution_count": 11,
   "metadata": {
    "scrolled": true
   },
   "outputs": [
    {
     "name": "stdout",
     "output_type": "stream",
     "text": [
      "X train shape:  (1458348, 9)\n",
      "y train shape:  (1458348,)\n",
      "X test shape:  (1458349, 9)\n",
      "y test shape:  (1458349,)\n"
     ]
    }
   ],
   "source": [
    "# splitting the data into 50-50 (train-test-split)\n",
    "\n",
    "from sklearn.model_selection import train_test_split\n",
    "\n",
    "X_train, X_test, y_train, y_test = train_test_split(X, y, test_size = 0.5, shuffle = True)\n",
    "\n",
    "print(\"X train shape: \", X_train.shape)\n",
    "print(\"y train shape: \", y_train.shape)\n",
    "print(\"X test shape: \", X_test.shape)\n",
    "print(\"y test shape: \", y_test.shape)"
   ]
  },
  {
   "cell_type": "code",
   "execution_count": 31,
   "metadata": {},
   "outputs": [
    {
     "name": "stdout",
     "output_type": "stream",
     "text": [
      "Wall time: 15.5 s\n"
     ]
    },
    {
     "data": {
      "text/plain": [
       "RandomForestClassifier(max_depth=4, n_estimators=50, n_jobs=-1)"
      ]
     },
     "execution_count": 31,
     "metadata": {},
     "output_type": "execute_result"
    }
   ],
   "source": [
    "%%time\n",
    "# fitting baseline model-1 : Random Forest\n",
    "\n",
    "from sklearn.ensemble import RandomForestClassifier\n",
    "\n",
    "clf_rf = RandomForestClassifier(n_estimators = 50, max_depth = 4, n_jobs = -1)\n",
    "clf_rf.fit(X_train, y_train)"
   ]
  },
  {
   "cell_type": "code",
   "execution_count": 32,
   "metadata": {},
   "outputs": [
    {
     "name": "stdout",
     "output_type": "stream",
     "text": [
      "Wall time: 6.62 s\n"
     ]
    },
    {
     "data": {
      "text/plain": [
       "0.9858312282116477"
      ]
     },
     "execution_count": 32,
     "metadata": {},
     "output_type": "execute_result"
    }
   ],
   "source": [
    "%%time\n",
    "from sklearn.metrics import accuracy_score, classification_report\n",
    "\n",
    "# accuracy on the training set\n",
    "accuracy_score(y_train, clf_rf.predict(X_train))"
   ]
  },
  {
   "cell_type": "code",
   "execution_count": 33,
   "metadata": {},
   "outputs": [
    {
     "name": "stdout",
     "output_type": "stream",
     "text": [
      "Wall time: 6.37 s\n"
     ]
    },
    {
     "data": {
      "text/plain": [
       "0.9857715814252966"
      ]
     },
     "execution_count": 33,
     "metadata": {},
     "output_type": "execute_result"
    }
   ],
   "source": [
    "%%time\n",
    "# accuracy on the testing set\n",
    "accuracy_score(y_test, clf_rf.predict(X_test))"
   ]
  },
  {
   "cell_type": "code",
   "execution_count": 34,
   "metadata": {
    "scrolled": true
   },
   "outputs": [
    {
     "name": "stdout",
     "output_type": "stream",
     "text": [
      "Wall time: 7.06 s\n"
     ]
    },
    {
     "data": {
      "text/plain": [
       "ExtraTreesClassifier(max_depth=4, n_estimators=50, n_jobs=-1)"
      ]
     },
     "execution_count": 34,
     "metadata": {},
     "output_type": "execute_result"
    }
   ],
   "source": [
    "%%time\n",
    "# fitting baseline model-2 : Extra Trees Classifier\n",
    "\n",
    "from sklearn.ensemble import ExtraTreesClassifier\n",
    "\n",
    "clf_et = ExtraTreesClassifier(n_estimators = 50, max_depth = 4, n_jobs = -1)\n",
    "clf_et.fit(X_train, y_train)"
   ]
  },
  {
   "cell_type": "code",
   "execution_count": 37,
   "metadata": {},
   "outputs": [
    {
     "name": "stdout",
     "output_type": "stream",
     "text": [
      "Wall time: 6.25 s\n"
     ]
    },
    {
     "data": {
      "text/plain": [
       "0.9858312282116477"
      ]
     },
     "execution_count": 37,
     "metadata": {},
     "output_type": "execute_result"
    }
   ],
   "source": [
    "%%time\n",
    "# accuracy on the training set\n",
    "accuracy_score(y_train, clf_et.predict(X_train))"
   ]
  },
  {
   "cell_type": "code",
   "execution_count": 38,
   "metadata": {},
   "outputs": [
    {
     "name": "stdout",
     "output_type": "stream",
     "text": [
      "Wall time: 6.66 s\n"
     ]
    },
    {
     "data": {
      "text/plain": [
       "0.9857715814252966"
      ]
     },
     "execution_count": 38,
     "metadata": {},
     "output_type": "execute_result"
    }
   ],
   "source": [
    "%%time\n",
    "# accuracy on the testing set\n",
    "accuracy_score(y_test, clf_et.predict(X_test))"
   ]
  },
  {
   "cell_type": "code",
   "execution_count": 39,
   "metadata": {},
   "outputs": [
    {
     "name": "stdout",
     "output_type": "stream",
     "text": [
      "Wall time: 11.6 s\n"
     ]
    },
    {
     "data": {
      "text/plain": [
       "DecisionTreeClassifier()"
      ]
     },
     "execution_count": 39,
     "metadata": {},
     "output_type": "execute_result"
    }
   ],
   "source": [
    "%%time\n",
    "# fitting baseline model-3: Decision Tree Classifier\n",
    "\n",
    "from sklearn.tree import DecisionTreeClassifier\n",
    "\n",
    "clf_dt = DecisionTreeClassifier()\n",
    "clf_dt.fit(X_train, y_train)"
   ]
  },
  {
   "cell_type": "code",
   "execution_count": 40,
   "metadata": {},
   "outputs": [
    {
     "name": "stdout",
     "output_type": "stream",
     "text": [
      "Wall time: 355 ms\n"
     ]
    },
    {
     "data": {
      "text/plain": [
       "1.0"
      ]
     },
     "execution_count": 40,
     "metadata": {},
     "output_type": "execute_result"
    }
   ],
   "source": [
    "%%time\n",
    "# accuracy on the training set\n",
    "accuracy_score(y_train, clf_dt.predict(X_train))"
   ]
  },
  {
   "cell_type": "code",
   "execution_count": 41,
   "metadata": {},
   "outputs": [
    {
     "name": "stdout",
     "output_type": "stream",
     "text": [
      "Wall time: 349 ms\n"
     ]
    },
    {
     "data": {
      "text/plain": [
       "0.9795885621343039"
      ]
     },
     "execution_count": 41,
     "metadata": {},
     "output_type": "execute_result"
    }
   ],
   "source": [
    "%%time\n",
    "# accuracy on the testing set\n",
    "accuracy_score(y_test, clf_dt.predict(X_test))"
   ]
  },
  {
   "cell_type": "markdown",
   "metadata": {},
   "source": [
    "## Saving the models in pickle files"
   ]
  },
  {
   "cell_type": "code",
   "execution_count": 49,
   "metadata": {},
   "outputs": [
    {
     "name": "stdout",
     "output_type": "stream",
     "text": [
      "C:\\Users\\vinee\\Desktop\\BENNETT UNIVERSITY\\SEMESTER 6\\ECSE302L High Performance Computing\\LAB ASSIGNMENTS\\Lab_03\n"
     ]
    }
   ],
   "source": [
    "import os\n",
    "base_dir = os.getcwd()\n",
    "print(base_dir)"
   ]
  },
  {
   "cell_type": "code",
   "execution_count": 51,
   "metadata": {},
   "outputs": [
    {
     "name": "stdout",
     "output_type": "stream",
     "text": [
      "Wall time: 20 ms\n"
     ]
    }
   ],
   "source": [
    "%%time\n",
    "import pickle as pk\n",
    "\n",
    "pk.dump(clf_rf, open(os.path.join(base_dir, \"models/model1.pickle\"), \"wb\"))\n",
    "pk.dump(clf_et, open(os.path.join(base_dir, \"models/model2.pickle\"), \"wb\"))\n",
    "pk.dump(clf_dt, open(os.path.join(base_dir, \"models/model3.pickle\"), \"wb\"))"
   ]
  },
  {
   "cell_type": "markdown",
   "metadata": {},
   "source": [
    "## Running things in Parallel"
   ]
  },
  {
   "cell_type": "code",
   "execution_count": 54,
   "metadata": {},
   "outputs": [],
   "source": [
    "from joblib import Parallel, delayed\n",
    "\n",
    "def load_models():\n",
    "    model1 = pk.load(open(os.path.join(base_dir, \"models/model1.pickle\"), \"rb\"))\n",
    "    model2 = pk.load(open(os.path.join(base_dir, \"models/model2.pickle\"), \"rb\"))\n",
    "    model3 = pk.load(open(os.path.join(base_dir, \"models/model3.pickle\"), \"rb\"))\n",
    "    \n",
    "    return (model1, model2, model3)"
   ]
  },
  {
   "cell_type": "code",
   "execution_count": 56,
   "metadata": {},
   "outputs": [
    {
     "name": "stdout",
     "output_type": "stream",
     "text": [
      "Wall time: 28.7 s\n"
     ]
    },
    {
     "data": {
      "text/plain": [
       "[RandomForestClassifier(max_depth=4, n_estimators=50, n_jobs=-1),\n",
       " ExtraTreesClassifier(max_depth=4, n_estimators=50, n_jobs=-1),\n",
       " DecisionTreeClassifier()]"
      ]
     },
     "execution_count": 56,
     "metadata": {},
     "output_type": "execute_result"
    }
   ],
   "source": [
    "%%time\n",
    "\n",
    "model1, model2, model3 = load_models()\n",
    "\n",
    "Parallel(4)((delayed(model1.fit)(X_train, y_train), \n",
    "             delayed(model2.fit)(X_train, y_train),\n",
    "             delayed(model3.fit)(X_train, y_train)))"
   ]
  },
  {
   "cell_type": "code",
   "execution_count": 57,
   "metadata": {},
   "outputs": [],
   "source": [
    "# seqential predictions on training data\n",
    "def predict_train():\n",
    "    model1_train = model1.predict(X_train)\n",
    "    model2_train = model2.predict(X_train)\n",
    "    model3_train = model3.predict(X_train)\n",
    "    \n",
    "    return (model1_train, model2_train, model3_train)"
   ]
  },
  {
   "cell_type": "code",
   "execution_count": 59,
   "metadata": {},
   "outputs": [
    {
     "name": "stdout",
     "output_type": "stream",
     "text": [
      "Wall time: 12.9 s\n"
     ]
    }
   ],
   "source": [
    "%%time\n",
    "# sequential predictions\n",
    "model1_train, model2_train, model3_train = predict_train()"
   ]
  },
  {
   "cell_type": "code",
   "execution_count": 62,
   "metadata": {},
   "outputs": [],
   "source": [
    "# parallel predictions on training data\n",
    "def predict_train_parallel():\n",
    "    model1_train, model2_train, model3_train = Parallel(16)((delayed(model1.predict)(X_train),\n",
    "                                                             delayed(model2.predict)(X_train),\n",
    "                                                             delayed(model3.predict)(X_train)))\n",
    "    \n",
    "    return (model1_train, model2_train, model3_train)"
   ]
  },
  {
   "cell_type": "code",
   "execution_count": 63,
   "metadata": {},
   "outputs": [
    {
     "name": "stdout",
     "output_type": "stream",
     "text": [
      "Wall time: 14.2 s\n"
     ]
    }
   ],
   "source": [
    "%%time\n",
    "# parallel predictions\n",
    "model1_train, model2_train, model3_train = predict_train_parallel()"
   ]
  },
  {
   "cell_type": "code",
   "execution_count": 60,
   "metadata": {},
   "outputs": [],
   "source": [
    "# sequential prediction on the testing data\n",
    "def predict_test():\n",
    "    model1_test = model1.predict(X_test)\n",
    "    model2_test = model2.predict(X_test)\n",
    "    model3_test = model3.predict(X_test)\n",
    "    \n",
    "    return (model1_test, model2_test, model3_test)"
   ]
  },
  {
   "cell_type": "code",
   "execution_count": 61,
   "metadata": {},
   "outputs": [
    {
     "name": "stdout",
     "output_type": "stream",
     "text": [
      "Wall time: 12.7 s\n"
     ]
    }
   ],
   "source": [
    "%%time\n",
    "# sequential operations\n",
    "model1_test, model2_test, model3_test = predict_test()"
   ]
  },
  {
   "cell_type": "code",
   "execution_count": 64,
   "metadata": {},
   "outputs": [],
   "source": [
    "# parallel predictions on testing data\n",
    "def predict_train_parallel():\n",
    "    model1_test, model2_test, model3_test = Parallel(16)((delayed(model1.predict)(X_test),\n",
    "                                                             delayed(model2.predict)(X_test),\n",
    "                                                             delayed(model3.predict)(X_test)))\n",
    "    \n",
    "    return (model1_test, model2_test, model3_test)"
   ]
  },
  {
   "cell_type": "code",
   "execution_count": 65,
   "metadata": {},
   "outputs": [
    {
     "name": "stdout",
     "output_type": "stream",
     "text": [
      "Wall time: 13 s\n"
     ]
    }
   ],
   "source": [
    "%%time\n",
    "# parallel predictions\n",
    "model1_test, model2_test, model3_test = predict_train_parallel()"
   ]
  },
  {
   "cell_type": "markdown",
   "metadata": {},
   "source": [
    "## Performing Max Voting"
   ]
  },
  {
   "cell_type": "code",
   "execution_count": 71,
   "metadata": {},
   "outputs": [
    {
     "name": "stdout",
     "output_type": "stream",
     "text": [
      "3\n"
     ]
    }
   ],
   "source": [
    "estimators = []\n",
    "estimators.extend([('model1', model1), ('model2', model2), ('model3', model3)])\n",
    "print(len(estimators))    "
   ]
  },
  {
   "cell_type": "code",
   "execution_count": 75,
   "metadata": {},
   "outputs": [],
   "source": [
    "# serial implementation\n",
    "from sklearn.ensemble import VotingClassifier\n",
    "\n",
    "def serial_voting():\n",
    "    estimators = []\n",
    "    estimators.extend([('model1', model1), ('model2', model2), ('model3', model3)])\n",
    "    \n",
    "    voting_hard = VotingClassifier(estimators = estimators, voting = 'hard')\n",
    "    voting_hard.fit(X_train, y_train)\n",
    "    \n",
    "    y_pred = voting_hard.predict(X_train)\n",
    "    \n",
    "    print(\"accuracy score: \", accuracy_score(y_train, y_pred))"
   ]
  },
  {
   "cell_type": "code",
   "execution_count": 76,
   "metadata": {},
   "outputs": [
    {
     "name": "stdout",
     "output_type": "stream",
     "text": [
      "accuracy score:  0.9858312282116477\n",
      "Wall time: 54 s\n"
     ]
    }
   ],
   "source": [
    "%%time\n",
    "\n",
    "serial_voting()"
   ]
  },
  {
   "cell_type": "code",
   "execution_count": 77,
   "metadata": {},
   "outputs": [],
   "source": [
    "# parallel implementation using n_jobs parameter\n",
    "def parallel_voting_1():\n",
    "    estimators = []\n",
    "    estimators.extend([('model1', model1), ('model2', model2), ('model3', model3)])\n",
    "    \n",
    "    voting_hard = VotingClassifier(estimators = estimators, voting = 'hard', n_jobs = -1)\n",
    "    voting_hard.fit(X_train, y_train)\n",
    "    \n",
    "    y_pred = voting_hard.predict(X_train)\n",
    "    \n",
    "    print(\"accuracy score: \", accuracy_score(y_train, y_pred))"
   ]
  },
  {
   "cell_type": "code",
   "execution_count": 78,
   "metadata": {},
   "outputs": [
    {
     "name": "stdout",
     "output_type": "stream",
     "text": [
      "accuracy score:  0.9858312282116477\n",
      "Wall time: 48.8 s\n"
     ]
    }
   ],
   "source": [
    "%%time\n",
    "\n",
    "parallel_voting_1()"
   ]
  },
  {
   "cell_type": "code",
   "execution_count": 86,
   "metadata": {},
   "outputs": [],
   "source": [
    "# parallel implementation using task parallelism\n",
    "def parallel_voting_2():\n",
    "    voting_avg = Parallel(4)((delayed(model1.predict)(X_train),\n",
    "                              delayed(model2.predict)(X_train),\n",
    "                              delayed(model3.predict)(X_train)))\n",
    "    print(\"accuracy score: \", accuracy_score(y_train, np.mean(voting_avg, axis = 0).round() ))"
   ]
  },
  {
   "cell_type": "code",
   "execution_count": 87,
   "metadata": {},
   "outputs": [
    {
     "name": "stdout",
     "output_type": "stream",
     "text": [
      "accuracy score:  0.9858312282116477\n",
      "Wall time: 13.5 s\n"
     ]
    }
   ],
   "source": [
    "%%time\n",
    "\n",
    "parallel_voting_2()"
   ]
  },
  {
   "cell_type": "code",
   "execution_count": null,
   "metadata": {},
   "outputs": [],
   "source": []
  }
 ],
 "metadata": {
  "kernelspec": {
   "display_name": "Python 3",
   "language": "python",
   "name": "python3"
  },
  "language_info": {
   "codemirror_mode": {
    "name": "ipython",
    "version": 3
   },
   "file_extension": ".py",
   "mimetype": "text/x-python",
   "name": "python",
   "nbconvert_exporter": "python",
   "pygments_lexer": "ipython3",
   "version": "3.8.3"
  }
 },
 "nbformat": 4,
 "nbformat_minor": 4
}
