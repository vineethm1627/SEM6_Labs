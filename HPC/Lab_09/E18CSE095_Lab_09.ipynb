{
  "nbformat": 4,
  "nbformat_minor": 0,
  "metadata": {
    "colab": {
      "name": "E18CSE095_Lab_09.ipynb",
      "provenance": [],
      "collapsed_sections": []
    },
    "kernelspec": {
      "name": "python3",
      "display_name": "Python 3"
    },
    "language_info": {
      "name": "python"
    }
  },
  "cells": [
    {
      "cell_type": "code",
      "metadata": {
        "id": "NQk7Ul4WemWu"
      },
      "source": [
        "# importing the libraries\n",
        "import networkx as r\n",
        "G=r.Graph()"
      ],
      "execution_count": null,
      "outputs": []
    },
    {
      "cell_type": "code",
      "metadata": {
        "colab": {
          "base_uri": "https://localhost:8080/"
        },
        "id": "obTRL3zngN-x",
        "outputId": "f252ec45-e439-4f9b-d5ba-53b5430fa396"
      },
      "source": [
        "check = {}\n",
        "with open('edg.csv', 'r') as file:\n",
        "    reader = csv.reader(file)\n",
        "    for row in reader:\n",
        "      print(row)\n",
        "      break\n",
        "    for row in reader:\n",
        "      # print(row)\n",
        "      try:\n",
        "        check[row[0]].append(row[1])\n",
        "      except:\n",
        "        check[row[0]] = [(row[1])]\n",
        "    print(len(check))"
      ],
      "execution_count": null,
      "outputs": [
        {
          "output_type": "stream",
          "text": [
            "['node_1', 'node_2']\n",
            "5722\n"
          ],
          "name": "stdout"
        }
      ]
    },
    {
      "cell_type": "code",
      "metadata": {
        "id": "iGdpSMGGkjUO"
      },
      "source": [
        "a= list(G.nodes)"
      ],
      "execution_count": null,
      "outputs": []
    },
    {
      "cell_type": "code",
      "metadata": {
        "id": "xrIXqcqNli80"
      },
      "source": [
        "de = a[random.randint(0,len(G.nodes)-1)]"
      ],
      "execution_count": null,
      "outputs": []
    },
    {
      "cell_type": "code",
      "metadata": {
        "id": "JYZGsHT2mGvh"
      },
      "source": [
        "res = r.df_edges(G, de)"
      ],
      "execution_count": null,
      "outputs": []
    },
    {
      "cell_type": "code",
      "metadata": {
        "colab": {
          "base_uri": "https://localhost:8080/"
        },
        "id": "ERUxXunpmZJB",
        "outputId": "a411dd9a-78f9-4e48-ce06-f103c0cfba0b"
      },
      "source": [
        "\n",
        "from collections import defaultcheck\n",
        " \n",
        "class Graph:\n",
        "    def __init__(self):\n",
        "        self.graph = defaultcheck(list)\n",
        " \n",
        "    def addEdge(self,u,v):\n",
        "        self.graph[u].append(v)\n",
        " \n",
        "    def df(self, s):\n",
        "        print(int(max(self.graph)))\n",
        "        c = [False] * (int(max(self.graph)) + 1)\n",
        "        lt = []\n",
        "        lt.append(s)\n",
        "        c[s] = True\n",
        " \n",
        "        while lt:\n",
        "            s = lt.pop(0)\n",
        "            print (s, end = \" \")\n",
        "            for i in self.graph[s]:\n",
        "                if c[i] == False:\n",
        "                    lt.append(i)\n",
        "                    c[i] = True\n",
        " \n",
        "g = Graph()\n",
        "for i in check :\n",
        "  for j in check[i]:\n",
        "    g.addEdge(int(i), int(j))\n",
        "print (\"Following is Breadth First Traversal\")\n",
        "g.df(int(de)) "
      ],
      "execution_count": null,
      "outputs": [
        {
          "output_type": "stream",
          "text": [
            "Following is Breadth First Traversal\n",
            "7580\n",
            "6823 7296 "
          ],
          "name": "stdout"
        }
      ]
    },
    {
      "cell_type": "code",
      "metadata": {
        "id": "4U69BEGnvVgJ"
      },
      "source": [
        ""
      ],
      "execution_count": null,
      "outputs": []
    }
  ]
}