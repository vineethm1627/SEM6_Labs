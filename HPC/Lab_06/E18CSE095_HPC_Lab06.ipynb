{
  "nbformat": 4,
  "nbformat_minor": 0,
  "metadata": {
    "colab": {
      "name": "E18CSE095_HPC_Lab06.ipynb",
      "provenance": [],
      "collapsed_sections": []
    },
    "kernelspec": {
      "name": "python3",
      "display_name": "Python 3"
    },
    "accelerator": "GPU"
  },
  "cells": [
    {
      "cell_type": "markdown",
      "metadata": {
        "id": "Ims9y58hbQP_"
      },
      "source": [
        "Name: M.Vineeth <br>\r\n",
        "Enrol: E18CSE095 <br>\r\n",
        "Batch: EB03 <br>"
      ]
    },
    {
      "cell_type": "markdown",
      "metadata": {
        "id": "VgJP7_qHbXfN"
      },
      "source": [
        "## Exploring HPC libraries for Linear Algebra"
      ]
    },
    {
      "cell_type": "code",
      "metadata": {
        "colab": {
          "base_uri": "https://localhost:8080/"
        },
        "id": "Hr7_W0XKayDv",
        "outputId": "a27de524-9b6a-46f7-e04f-23387d5fcba7"
      },
      "source": [
        "# serial implementation of matrix implementation\r\n",
        "%%time\r\n",
        "import numpy as np\r\n",
        "import time\r\n",
        "np.random.seed(1)\r\n",
        "\r\n",
        "mat1 = np.random.rand(10, 10)\r\n",
        "mat2 = np.random.rand(10, 10)\r\n",
        "result = np.zeros([mat1.shape[0],mat2.shape[1]], dtype = np.float64)\r\n",
        "\r\n",
        "print(\"shape of mat1: \", mat1.shape)\r\n",
        "print(\"shape of mat2: \", mat2.shape)\r\n",
        "print(mat1[0])\r\n",
        "\r\n",
        "\r\n",
        "start = time.time()\r\n",
        "for i in range(mat1.shape[0]):\r\n",
        "  for j in range(mat2.shape[1]):\r\n",
        "    for k in range(mat2.shape[0]):\r\n",
        "      result[i][j] += mat1[i][k] * mat2[k][j]\r\n",
        "\r\n",
        "total_time = time.time() - start\r\n",
        "print(\"time taken: \", total_time)\r\n",
        "print(\"result matrix shape: \", result.shape)\r\n",
        "print(\"first row of result: \\n\", result[0])"
      ],
      "execution_count": 1,
      "outputs": [
        {
          "output_type": "stream",
          "text": [
            "shape of mat1:  (10, 10)\n",
            "shape of mat2:  (10, 10)\n",
            "[4.17022005e-01 7.20324493e-01 1.14374817e-04 3.02332573e-01\n",
            " 1.46755891e-01 9.23385948e-02 1.86260211e-01 3.45560727e-01\n",
            " 3.96767474e-01 5.38816734e-01]\n",
            "time taken:  0.001262664794921875\n",
            "result matrix shape:  (10, 10)\n",
            "first row of result: \n",
            " [1.07179533 1.2735907  2.28264555 1.42140004 1.51043505 2.04157089\n",
            " 1.17344929 1.8902774  1.90981139 1.92349033]\n",
            "CPU times: user 2.46 ms, sys: 127 µs, total: 2.59 ms\n",
            "Wall time: 2.35 ms\n"
          ],
          "name": "stdout"
        }
      ]
    },
    {
      "cell_type": "code",
      "metadata": {
        "id": "iC1GFu9Gb16N"
      },
      "source": [
        "# parallel implementation\r\n",
        "\r\n",
        "def multiply(X, Y):\r\n",
        "  # create the shared variable\r\n",
        "  result = pymp.shared.array((X.shape[0], Y.shape[1]), dtype = \"float64\")\r\n",
        "  with pymp.Parallel(2) as p:\r\n",
        "    for i in p.range(len(Y[0])):\r\n",
        "      for j in p.range(len(Y)):\r\n",
        "        result[0][i] += X[0] * Y[j][i]"
      ],
      "execution_count": 2,
      "outputs": []
    },
    {
      "cell_type": "code",
      "metadata": {
        "colab": {
          "base_uri": "https://localhost:8080/"
        },
        "id": "JwyPov1ecMtz",
        "outputId": "16671038-5967-4fa8-93de-56b6d62710d2"
      },
      "source": [
        "# installing pymp library\r\n",
        "!pip install pymp-pypi"
      ],
      "execution_count": 3,
      "outputs": [
        {
          "output_type": "stream",
          "text": [
            "Collecting pymp-pypi\n",
            "  Downloading https://files.pythonhosted.org/packages/e9/ff/8ec07d0c901d4161012ae505d47b459dd30d5112b8ba4abca33811e62243/pymp_pypi-0.4.3-py3-none-any.whl\n",
            "Installing collected packages: pymp-pypi\n",
            "Successfully installed pymp-pypi-0.4.3\n"
          ],
          "name": "stdout"
        }
      ]
    },
    {
      "cell_type": "code",
      "metadata": {
        "colab": {
          "base_uri": "https://localhost:8080/"
        },
        "id": "XyzKuumEcDzK",
        "outputId": "fcc83c29-2492-4da7-8944-2efaa0091039"
      },
      "source": [
        "%%time\r\n",
        "import pymp\r\n",
        "import numpy as np\r\n",
        "import time\r\n",
        "np.random.seed(1)\r\n",
        "\r\n",
        "mat1 = np.random.rand(10, 10)\r\n",
        "mat2 = np.random.rand(10, 10)\r\n",
        "#result = np.zeros([mat1.shape[0],mat2.shape[1]], dtype = np.float64)\r\n",
        "\r\n",
        "print(\"shape of mat1: \", mat1.shape)\r\n",
        "print(\"shape of mat2: \", mat2.shape)\r\n",
        "print(mat1[0])\r\n",
        "\r\n",
        "\r\n",
        "start = time.time()\r\n",
        "for i in range(mat1.shape[1]):\r\n",
        "  multiply(mat1[i], mat2)\r\n",
        "\r\n",
        "total_time = time.time() - start\r\n",
        "print(\"time taken: \", total_time)\r\n",
        "print(\"result matrix shape: \", result.shape)\r\n",
        "print(\"first row of result: \\n\", result[0])"
      ],
      "execution_count": 4,
      "outputs": [
        {
          "output_type": "stream",
          "text": [
            "shape of mat1:  (10, 10)\n",
            "shape of mat2:  (10, 10)\n",
            "[4.17022005e-01 7.20324493e-01 1.14374817e-04 3.02332573e-01\n",
            " 1.46755891e-01 9.23385948e-02 1.86260211e-01 3.45560727e-01\n",
            " 3.96767474e-01 5.38816734e-01]\n",
            "time taken:  0.2769443988800049\n",
            "result matrix shape:  (10, 10)\n",
            "first row of result: \n",
            " [1.07179533 1.2735907  2.28264555 1.42140004 1.51043505 2.04157089\n",
            " 1.17344929 1.8902774  1.90981139 1.92349033]\n",
            "CPU times: user 67.8 ms, sys: 71 ms, total: 139 ms\n",
            "Wall time: 298 ms\n"
          ],
          "name": "stdout"
        }
      ]
    },
    {
      "cell_type": "code",
      "metadata": {
        "colab": {
          "base_uri": "https://localhost:8080/"
        },
        "id": "PKjTQErPcHSd",
        "outputId": "1b700825-cfe0-4643-d319-a8a8ead325f3"
      },
      "source": [
        "# using numpy\r\n",
        "np.random.seed(1)\r\n",
        "\r\n",
        "mat1 = np.random.rand(10, 10)\r\n",
        "mat2 = np.random.rand(10, 10)\r\n",
        "#result = np.zeros([mat1.shape[0],mat2.shape[1]], dtype = np.float64)\r\n",
        "\r\n",
        "print(\"shape of mat1: \", mat1.shape)\r\n",
        "print(\"shape of mat2: \", mat2.shape)\r\n",
        "print(mat1[0])\r\n",
        "\r\n",
        "start = time.time()\r\n",
        "mat_result = np.matmul(mat1, mat2)\r\n",
        "total_time = time.time() - start\r\n",
        "print(\"time taken: \", total_time)\r\n",
        "print(\"result matrix shape: \", mat_result.shape)\r\n",
        "print(\"first row of result: \\n\", mat_result[0])"
      ],
      "execution_count": 5,
      "outputs": [
        {
          "output_type": "stream",
          "text": [
            "shape of mat1:  (10, 10)\n",
            "shape of mat2:  (10, 10)\n",
            "[4.17022005e-01 7.20324493e-01 1.14374817e-04 3.02332573e-01\n",
            " 1.46755891e-01 9.23385948e-02 1.86260211e-01 3.45560727e-01\n",
            " 3.96767474e-01 5.38816734e-01]\n",
            "time taken:  0.0029387474060058594\n",
            "result matrix shape:  (10, 10)\n",
            "first row of result: \n",
            " [1.07179533 1.2735907  2.28264555 1.42140004 1.51043505 2.04157089\n",
            " 1.17344929 1.8902774  1.90981139 1.92349033]\n"
          ],
          "name": "stdout"
        }
      ]
    },
    {
      "cell_type": "code",
      "metadata": {
        "colab": {
          "base_uri": "https://localhost:8080/"
        },
        "id": "p3HuS2yYcrMl",
        "outputId": "f04ab4c8-2f1b-4937-d154-411b89b359f5"
      },
      "source": [
        "# using pandas\r\n",
        "import pandas as pd\r\n",
        "np.random.seed(1)\r\n",
        "\r\n",
        "mat1 = np.random.rand(10, 10)\r\n",
        "mat2 = np.random.rand(10, 10)\r\n",
        "#result = np.zeros([mat1.shape[0],mat2.shape[1]], dtype = np.float64)\r\n",
        "\r\n",
        "print(\"shape of mat1: \", mat1.shape)\r\n",
        "print(\"shape of mat2: \", mat2.shape)\r\n",
        "print(mat1[0])\r\n",
        "\r\n",
        "\r\n",
        "start = time.time()\r\n",
        "df_result = pd.DataFrame(mat1).dot(pd.DataFrame(mat2))\r\n",
        "total_time = time.time() - start\r\n",
        "print(\"time taken: \", total_time)\r\n",
        "print(\"result matrix shape: \", df_result.shape)\r\n",
        "print(\"first row of result: \\n\", df_result[0])"
      ],
      "execution_count": 6,
      "outputs": [
        {
          "output_type": "stream",
          "text": [
            "shape of mat1:  (10, 10)\n",
            "shape of mat2:  (10, 10)\n",
            "[4.17022005e-01 7.20324493e-01 1.14374817e-04 3.02332573e-01\n",
            " 1.46755891e-01 9.23385948e-02 1.86260211e-01 3.45560727e-01\n",
            " 3.96767474e-01 5.38816734e-01]\n",
            "time taken:  0.0021026134490966797\n",
            "result matrix shape:  (10, 10)\n",
            "first row of result: \n",
            " 0    1.071795\n",
            "1    1.254900\n",
            "2    1.763016\n",
            "3    1.482168\n",
            "4    1.536064\n",
            "5    1.299951\n",
            "6    1.499439\n",
            "7    2.024376\n",
            "8    1.820288\n",
            "9    1.355978\n",
            "Name: 0, dtype: float64\n"
          ],
          "name": "stdout"
        }
      ]
    },
    {
      "cell_type": "code",
      "metadata": {
        "colab": {
          "base_uri": "https://localhost:8080/"
        },
        "id": "jA2ivY-4c9o6",
        "outputId": "3edbc383-25ca-4478-999b-936e4fdaf933"
      },
      "source": [
        "# using sympy\r\n",
        "import sympy as sp\r\n",
        "np.random.seed(1)\r\n",
        "\r\n",
        "mat1 = np.random.rand(10, 10)\r\n",
        "mat2 = np.random.rand(10, 10)\r\n",
        "#result = np.zeros([mat1.shape[0],mat2.shape[1]], dtype = np.float64)\r\n",
        "\r\n",
        "print(\"shape of mat1: \", mat1.shape)\r\n",
        "print(\"shape of mat2: \", mat2.shape)\r\n",
        "print(mat1[0])\r\n",
        "\r\n",
        "\r\n",
        "start = time.time()\r\n",
        "mat_result = sp.Matrix(mat1).dot(sp.Matrix(mat2))\r\n",
        "total_time = time.time() - start\r\n",
        "print(\"time taken: \", total_time)\r\n",
        "print(\"first row of result: \\n\", mat_result[0])"
      ],
      "execution_count": 7,
      "outputs": [
        {
          "output_type": "stream",
          "text": [
            "shape of mat1:  (10, 10)\n",
            "shape of mat2:  (10, 10)\n",
            "[4.17022005e-01 7.20324493e-01 1.14374817e-04 3.02332573e-01\n",
            " 1.46755891e-01 9.23385948e-02 1.86260211e-01 3.45560727e-01\n",
            " 3.96767474e-01 5.38816734e-01]\n",
            "time taken:  0.07496953010559082\n",
            "first row of result: \n",
            " 3.57818197007040\n"
          ],
          "name": "stdout"
        },
        {
          "output_type": "stream",
          "text": [
            "/usr/local/lib/python3.7/dist-packages/sympy/matrices/matrices.py:1357: SymPyDeprecationWarning: \n",
            "\n",
            "Dot product of non row/column vectors has been deprecated since SymPy\n",
            "1.2. Use * to take matrix products instead. See\n",
            "https://github.com/sympy/sympy/issues/13815 for more info.\n",
            "\n",
            "  useinstead=\"* to take matrix products\").warn()\n"
          ],
          "name": "stderr"
        }
      ]
    },
    {
      "cell_type": "code",
      "metadata": {
        "id": "qN_7qmY_dmXb"
      },
      "source": [
        "# using numba\r\n",
        "import numba\r\n",
        "from numba import jit\r\n",
        "@jit('void(float64[:,:], float64[:,:], float64[:,:])')\r\n",
        "def multiply(mat1, mat2, mat_result):\r\n",
        "  for i in range(len(mat1)):\r\n",
        "    for j in range(len(mat2[0])):\r\n",
        "      for k in range(len(mat2)):\r\n",
        "        mat_result[i][j] += mat1[i][k] * mat2[k][j]"
      ],
      "execution_count": 8,
      "outputs": []
    },
    {
      "cell_type": "code",
      "metadata": {
        "colab": {
          "base_uri": "https://localhost:8080/"
        },
        "id": "kyzpUZ9idNzc",
        "outputId": "3f775392-0872-47dd-f822-b9966b278156"
      },
      "source": [
        "np.random.seed(1)\r\n",
        "\r\n",
        "mat1 = np.random.rand(10, 10)\r\n",
        "mat2 = np.random.rand(10, 10)\r\n",
        "mat_result = np.zeros([mat1.shape[0],mat2.shape[1]], dtype = np.float64)\r\n",
        "\r\n",
        "print(\"shape of mat1: \", mat1.shape)\r\n",
        "print(\"shape of mat2: \", mat2.shape)\r\n",
        "\r\n",
        "start = time.time()\r\n",
        "multiply(mat1, mat2, mat_result)\r\n",
        "total_time = time.time() - start\r\n",
        "print(\"time taken: \", total_time)\r\n",
        "print(\"result matrix shape: \", mat_result.shape)\r\n",
        "print(\"first row of result: \\n\", mat_result[0])"
      ],
      "execution_count": 9,
      "outputs": [
        {
          "output_type": "stream",
          "text": [
            "shape of mat1:  (10, 10)\n",
            "shape of mat2:  (10, 10)\n",
            "time taken:  0.0002827644348144531\n",
            "result matrix shape:  (10, 10)\n",
            "first row of result: \n",
            " [1.07179533 1.2735907  2.28264555 1.42140004 1.51043505 2.04157089\n",
            " 1.17344929 1.8902774  1.90981139 1.92349033]\n"
          ],
          "name": "stdout"
        }
      ]
    },
    {
      "cell_type": "code",
      "metadata": {
        "colab": {
          "base_uri": "https://localhost:8080/"
        },
        "id": "g_AxkOQBd338",
        "outputId": "3a04880b-7094-445a-b049-282332d00b8f"
      },
      "source": [
        "# using linalg\r\n",
        "# using pandas\r\n",
        "import pandas as pd\r\n",
        "np.random.seed(1)\r\n",
        "\r\n",
        "mat1 = np.random.rand(10, 10)\r\n",
        "mat2 = np.random.rand(10, 10)\r\n",
        "#mat_result = np.zeros([mat1.shape[0],mat2.shape[1]], dtype = np.float64)\r\n",
        "\r\n",
        "print(\"shape of mat1: \", mat1.shape)\r\n",
        "print(\"shape of mat2: \", mat2.shape)\r\n",
        "print(mat1[0])\r\n",
        "\r\n",
        "\r\n",
        "start = time.time()\r\n",
        "mat_result = np.dot(mat1, mat2)\r\n",
        "total_time = time.time() - start\r\n",
        "print(\"time taken: \", total_time)\r\n",
        "print(\"result matrix shape: \", mat_result.shape)\r\n",
        "print(\"first row of result: \\n\", mat_result[0])"
      ],
      "execution_count": 10,
      "outputs": [
        {
          "output_type": "stream",
          "text": [
            "shape of mat1:  (10, 10)\n",
            "shape of mat2:  (10, 10)\n",
            "[4.17022005e-01 7.20324493e-01 1.14374817e-04 3.02332573e-01\n",
            " 1.46755891e-01 9.23385948e-02 1.86260211e-01 3.45560727e-01\n",
            " 3.96767474e-01 5.38816734e-01]\n",
            "time taken:  8.821487426757812e-05\n",
            "result matrix shape:  (10, 10)\n",
            "first row of result: \n",
            " [1.07179533 1.2735907  2.28264555 1.42140004 1.51043505 2.04157089\n",
            " 1.17344929 1.8902774  1.90981139 1.92349033]\n"
          ],
          "name": "stdout"
        }
      ]
    },
    {
      "cell_type": "code",
      "metadata": {
        "colab": {
          "base_uri": "https://localhost:8080/"
        },
        "id": "Ck1gcZGveiWf",
        "outputId": "35c389fc-9ac1-4010-fb29-f7b8ea737dd1"
      },
      "source": [
        "!pip install pymatrix"
      ],
      "execution_count": 11,
      "outputs": [
        {
          "output_type": "stream",
          "text": [
            "Collecting pymatrix\n",
            "  Downloading https://files.pythonhosted.org/packages/df/11/519cbfdb6ee7d7b37e8e11aff3e66b2b4270130af958df22711d5da4b030/pymatrix-3.0.1.tar.gz\n",
            "Building wheels for collected packages: pymatrix\n",
            "  Building wheel for pymatrix (setup.py) ... \u001b[?25l\u001b[?25hdone\n",
            "  Created wheel for pymatrix: filename=pymatrix-3.0.1-cp37-none-any.whl size=7065 sha256=4a75083e4c887c0899dd77fcd4efcb1a889d9ace78eac3a68d819290b3325fa9\n",
            "  Stored in directory: /root/.cache/pip/wheels/7a/b5/9a/d5e6c01679e1a22385c2112e667314703a79fe7560a33f824c\n",
            "Successfully built pymatrix\n",
            "Installing collected packages: pymatrix\n",
            "Successfully installed pymatrix-3.0.1\n"
          ],
          "name": "stdout"
        }
      ]
    },
    {
      "cell_type": "code",
      "metadata": {
        "colab": {
          "base_uri": "https://localhost:8080/"
        },
        "id": "5zj_ufPvedrH",
        "outputId": "b8c9609b-428f-4327-f926-79155f1f2ec4"
      },
      "source": [
        "# using pymatrix\r\n",
        "from pymatrix import matrix\r\n",
        "np.random.seed(1)\r\n",
        "\r\n",
        "mat1 = np.random.rand(10, 10)\r\n",
        "mat2 = np.random.rand(10, 10)\r\n",
        "#result = np.zeros([mat1.shape[0],mat2.shape[1]], dtype = np.float64)\r\n",
        "\r\n",
        "print(\"shape of mat1: \", mat1.shape)\r\n",
        "print(\"shape of mat2: \", mat2.shape)\r\n",
        "print(mat1[0])\r\n",
        "\r\n",
        "start = time.time()\r\n",
        "mat_result = mat1 * mat2\r\n",
        "total_time = time.time() - start\r\n",
        "print(\"time taken: \", total_time)\r\n",
        "print(\"result matrix shape: \", mat_result.shape)\r\n",
        "print(\"first row of result: \\n\", mat_result[0])"
      ],
      "execution_count": 12,
      "outputs": [
        {
          "output_type": "stream",
          "text": [
            "shape of mat1:  (10, 10)\n",
            "shape of mat2:  (10, 10)\n",
            "[4.17022005e-01 7.20324493e-01 1.14374817e-04 3.02332573e-01\n",
            " 1.46755891e-01 9.23385948e-02 1.86260211e-01 3.45560727e-01\n",
            " 3.96767474e-01 5.38816734e-01]\n",
            "time taken:  8.416175842285156e-05\n",
            "result matrix shape:  (10, 10)\n",
            "first row of result: \n",
            " [1.36218112e-01 3.79652861e-01 1.01329466e-04 1.08014286e-01\n",
            " 1.33332885e-01 5.75601971e-02 2.94686804e-03 3.21177006e-01\n",
            " 2.74125425e-01 5.37374241e-01]\n"
          ],
          "name": "stdout"
        }
      ]
    },
    {
      "cell_type": "code",
      "metadata": {
        "colab": {
          "base_uri": "https://localhost:8080/"
        },
        "id": "OF7gEvgbevPp",
        "outputId": "1bbd848f-3027-418f-fb4e-27c496d5bbe0"
      },
      "source": [
        "# using tensorflow\r\n",
        "\r\n",
        "import tensorflow as tf\r\n",
        "np.random.seed(1)\r\n",
        "\r\n",
        "mat1 = np.random.rand(10, 10)\r\n",
        "mat2 = np.random.rand(10, 10)\r\n",
        "#result = np.zeros([mat1.shape[0],mat2.shape[1]], dtype = np.float64)\r\n",
        "\r\n",
        "print(\"shape of mat1: \", mat1.shape)\r\n",
        "print(\"shape of mat2: \", mat2.shape)\r\n",
        "print(mat1[0])\r\n",
        "\r\n",
        "\r\n",
        "start = time.time()\r\n",
        "mat_result = tf.matmul(mat1, mat2)\r\n",
        "total_time = time.time() - start\r\n",
        "print(\"time taken: \", total_time)\r\n",
        "print(\"result matrix shape: \", mat_result.shape)\r\n",
        "print(\"first row of result: \\n\", mat_result[0])"
      ],
      "execution_count": 13,
      "outputs": [
        {
          "output_type": "stream",
          "text": [
            "shape of mat1:  (10, 10)\n",
            "shape of mat2:  (10, 10)\n",
            "[4.17022005e-01 7.20324493e-01 1.14374817e-04 3.02332573e-01\n",
            " 1.46755891e-01 9.23385948e-02 1.86260211e-01 3.45560727e-01\n",
            " 3.96767474e-01 5.38816734e-01]\n",
            "time taken:  6.776587247848511\n",
            "result matrix shape:  (10, 10)\n",
            "first row of result: \n",
            " tf.Tensor(\n",
            "[1.07179533 1.2735907  2.28264555 1.42140004 1.51043505 2.04157089\n",
            " 1.17344929 1.8902774  1.90981139 1.92349033], shape=(10,), dtype=float64)\n"
          ],
          "name": "stdout"
        }
      ]
    },
    {
      "cell_type": "code",
      "metadata": {
        "colab": {
          "base_uri": "https://localhost:8080/"
        },
        "id": "UyptvSKqLRrq",
        "outputId": "28d54ff1-2e62-49f3-ba7f-5228c6136b1b"
      },
      "source": [
        "!pip install pycuda"
      ],
      "execution_count": 14,
      "outputs": [
        {
          "output_type": "stream",
          "text": [
            "Collecting pycuda\n",
            "\u001b[?25l  Downloading https://files.pythonhosted.org/packages/46/61/47d3235a4c13eec5a5f03594ddb268f4858734e02980afbcd806e6242fa5/pycuda-2020.1.tar.gz (1.6MB)\n",
            "\u001b[K     |████████████████████████████████| 1.6MB 7.8MB/s \n",
            "\u001b[?25hCollecting pytools>=2011.2\n",
            "\u001b[?25l  Downloading https://files.pythonhosted.org/packages/46/8a/149fa553998155f0a90d92cdbbc60f6c998cc9ad5fe0441b2b82628d001a/pytools-2021.1.tar.gz (62kB)\n",
            "\u001b[K     |████████████████████████████████| 71kB 11.1MB/s \n",
            "\u001b[?25hRequirement already satisfied: decorator>=3.2.0 in /usr/local/lib/python3.7/dist-packages (from pycuda) (4.4.2)\n",
            "Requirement already satisfied: appdirs>=1.4.0 in /usr/local/lib/python3.7/dist-packages (from pycuda) (1.4.4)\n",
            "Collecting mako\n",
            "\u001b[?25l  Downloading https://files.pythonhosted.org/packages/5c/db/2d2d88b924aa4674a080aae83b59ea19d593250bfe5ed789947c21736785/Mako-1.1.4.tar.gz (479kB)\n",
            "\u001b[K     |████████████████████████████████| 481kB 39.5MB/s \n",
            "\u001b[?25hRequirement already satisfied: numpy>=1.6.0 in /usr/local/lib/python3.7/dist-packages (from pytools>=2011.2->pycuda) (1.19.5)\n",
            "Requirement already satisfied: MarkupSafe>=0.9.2 in /usr/local/lib/python3.7/dist-packages (from mako->pycuda) (1.1.1)\n",
            "Building wheels for collected packages: pycuda, pytools, mako\n",
            "  Building wheel for pycuda (setup.py) ... \u001b[?25l\u001b[?25hdone\n",
            "  Created wheel for pycuda: filename=pycuda-2020.1-cp37-cp37m-linux_x86_64.whl size=620546 sha256=56dced2fa0dcc8fd1c8c813d3dc16069da03e0dcfee9591a7f837dab2d643337\n",
            "  Stored in directory: /root/.cache/pip/wheels/8f/78/d1/5bb826f81d9d490297a348d818ff3ee6dd6f2075b06dde6ea0\n",
            "  Building wheel for pytools (setup.py) ... \u001b[?25l\u001b[?25hdone\n",
            "  Created wheel for pytools: filename=pytools-2021.1-py2.py3-none-any.whl size=60415 sha256=08f09e8fb64c16cc691105abd59f731c8210866ecd79601fdea70d115abc266b\n",
            "  Stored in directory: /root/.cache/pip/wheels/5d/85/10/7da05d77b47f2cb503e5c4185ba82187d0b6b6736b3c6641e0\n",
            "  Building wheel for mako (setup.py) ... \u001b[?25l\u001b[?25hdone\n",
            "  Created wheel for mako: filename=Mako-1.1.4-py2.py3-none-any.whl size=75675 sha256=52516b83bd3d0f15a17b44fe45e2465fa86669d9dca86e339086fb6fa9c82c7f\n",
            "  Stored in directory: /root/.cache/pip/wheels/ad/10/d3/aeb26e20d19045e2a68e5d3cbb57432e11b5d9c92c99f98d47\n",
            "Successfully built pycuda pytools mako\n",
            "Installing collected packages: pytools, mako, pycuda\n",
            "Successfully installed mako-1.1.4 pycuda-2020.1 pytools-2021.1\n"
          ],
          "name": "stdout"
        }
      ]
    },
    {
      "cell_type": "code",
      "metadata": {
        "colab": {
          "base_uri": "https://localhost:8080/"
        },
        "id": "uC7vI7myMsjW",
        "outputId": "9d231646-2153-4285-d1bd-641900aeed83"
      },
      "source": [
        "!pip install scikit-cuda"
      ],
      "execution_count": 16,
      "outputs": [
        {
          "output_type": "stream",
          "text": [
            "Collecting scikit-cuda\n",
            "\u001b[?25l  Downloading https://files.pythonhosted.org/packages/98/8b/36d178c3b98524fe5b1cc15d075d34e2e6e291c4b0461f6e901f1e0bc736/scikit_cuda-0.5.3-py2.py3-none-any.whl (114kB)\n",
            "\r\u001b[K     |██▉                             | 10kB 20.7MB/s eta 0:00:01\r\u001b[K     |█████▊                          | 20kB 16.6MB/s eta 0:00:01\r\u001b[K     |████████▋                       | 30kB 13.8MB/s eta 0:00:01\r\u001b[K     |███████████▍                    | 40kB 13.5MB/s eta 0:00:01\r\u001b[K     |██████████████▎                 | 51kB 7.8MB/s eta 0:00:01\r\u001b[K     |█████████████████▏              | 61kB 9.0MB/s eta 0:00:01\r\u001b[K     |████████████████████            | 71kB 9.4MB/s eta 0:00:01\r\u001b[K     |██████████████████████▉         | 81kB 9.5MB/s eta 0:00:01\r\u001b[K     |█████████████████████████▊      | 92kB 10.1MB/s eta 0:00:01\r\u001b[K     |████████████████████████████▌   | 102kB 8.7MB/s eta 0:00:01\r\u001b[K     |███████████████████████████████▍| 112kB 8.7MB/s eta 0:00:01\r\u001b[K     |████████████████████████████████| 122kB 8.7MB/s \n",
            "\u001b[?25hRequirement already satisfied: mako>=1.0.1 in /usr/local/lib/python3.7/dist-packages (from scikit-cuda) (1.1.4)\n",
            "Requirement already satisfied: numpy>=1.2.0 in /usr/local/lib/python3.7/dist-packages (from scikit-cuda) (1.19.5)\n",
            "Requirement already satisfied: pycuda>=2016.1 in /usr/local/lib/python3.7/dist-packages (from scikit-cuda) (2020.1)\n",
            "Requirement already satisfied: MarkupSafe>=0.9.2 in /usr/local/lib/python3.7/dist-packages (from mako>=1.0.1->scikit-cuda) (1.1.1)\n",
            "Requirement already satisfied: pytools>=2011.2 in /usr/local/lib/python3.7/dist-packages (from pycuda>=2016.1->scikit-cuda) (2021.1)\n",
            "Requirement already satisfied: decorator>=3.2.0 in /usr/local/lib/python3.7/dist-packages (from pycuda>=2016.1->scikit-cuda) (4.4.2)\n",
            "Requirement already satisfied: appdirs>=1.4.0 in /usr/local/lib/python3.7/dist-packages (from pycuda>=2016.1->scikit-cuda) (1.4.4)\n",
            "Installing collected packages: scikit-cuda\n",
            "Successfully installed scikit-cuda-0.5.3\n"
          ],
          "name": "stdout"
        }
      ]
    },
    {
      "cell_type": "markdown",
      "metadata": {
        "id": "cWezUz1ML3Ci"
      },
      "source": [
        "A simpler version to perform matrix multiplications on the GPU through cuBLAS\r\n",
        "routines is to exploit the dot function of the linalg module of the scikit-cuda package. \r\n",
        "Such a routine is a symmetrical counterpart of the numpy dot function."
      ]
    },
    {
      "cell_type": "code",
      "metadata": {
        "id": "tVvS_zMBe5al",
        "colab": {
          "base_uri": "https://localhost:8080/"
        },
        "outputId": "23417b1d-a7d3-4276-dd4a-1d7c417ae4da"
      },
      "source": [
        "# using pycuda\r\n",
        "import pycuda.gpuarray as gpuarray\r\n",
        "import numpy as np\r\n",
        "import skcuda.linalg as linalg\r\n",
        "np.random.seed(1)\r\n",
        "\r\n",
        "mat1 = np.random.rand(10, 10)\r\n",
        "mat2 = np.random.rand(10, 10)\r\n",
        "\r\n",
        "# initializations\r\n",
        "import pycuda.autoinit\r\n",
        "linalg.init()\r\n",
        "\r\n",
        "mat1_gpu = gpuarray.to_gpu(mat1)\r\n",
        "mat2_gpu = gpuarray.to_gpu(mat2)\r\n",
        "\r\n",
        "print(\"shape of mat1: \", mat1.shape)\r\n",
        "print(\"shape of mat2: \", mat2.shape)\r\n",
        "print(mat1[0])\r\n",
        "\r\n",
        "\r\n",
        "start = time.time()\r\n",
        "result_gpu = linalg.dot(mat1_gpu, mat2_gpu)\r\n",
        "total_time = time.time() - start\r\n",
        "print(\"time taken: \", total_time)\r\n",
        "print(\"result matrix shape: \", result_gpu.shape)\r\n",
        "print(\"first row of result: \\n\", result_gpu[0])"
      ],
      "execution_count": 20,
      "outputs": [
        {
          "output_type": "stream",
          "text": [
            "shape of mat1:  (10, 10)\n",
            "shape of mat2:  (10, 10)\n",
            "[4.17022005e-01 7.20324493e-01 1.14374817e-04 3.02332573e-01\n",
            " 1.46755891e-01 9.23385948e-02 1.86260211e-01 3.45560727e-01\n",
            " 3.96767474e-01 5.38816734e-01]\n",
            "time taken:  0.0010113716125488281\n",
            "result matrix shape:  (10, 10)\n",
            "first row of result: \n",
            " [1.07179533 1.2735907  2.28264555 1.42140004 1.51043505 2.04157089\n",
            " 1.17344929 1.8902774  1.90981139 1.92349033]\n"
          ],
          "name": "stdout"
        }
      ]
    },
    {
      "cell_type": "code",
      "metadata": {
        "colab": {
          "base_uri": "https://localhost:8080/"
        },
        "id": "YM3IELYxNrkN",
        "outputId": "26565a9a-8155-4c46-9ebe-c04ef6568f92"
      },
      "source": [
        "!pip install pymc3"
      ],
      "execution_count": 21,
      "outputs": [
        {
          "output_type": "stream",
          "text": [
            "Requirement already satisfied: pymc3 in /usr/local/lib/python3.7/dist-packages (3.7)\n",
            "Requirement already satisfied: numpy>=1.13.0 in /usr/local/lib/python3.7/dist-packages (from pymc3) (1.19.5)\n",
            "Requirement already satisfied: pandas>=0.18.0 in /usr/local/lib/python3.7/dist-packages (from pymc3) (1.1.5)\n",
            "Requirement already satisfied: scipy>=0.18.1 in /usr/local/lib/python3.7/dist-packages (from pymc3) (1.4.1)\n",
            "Requirement already satisfied: patsy>=0.4.0 in /usr/local/lib/python3.7/dist-packages (from pymc3) (0.5.1)\n",
            "Requirement already satisfied: tqdm>=4.8.4 in /usr/local/lib/python3.7/dist-packages (from pymc3) (4.41.1)\n",
            "Requirement already satisfied: h5py>=2.7.0 in /usr/local/lib/python3.7/dist-packages (from pymc3) (2.10.0)\n",
            "Requirement already satisfied: theano>=1.0.4 in /usr/local/lib/python3.7/dist-packages (from pymc3) (1.0.5)\n",
            "Requirement already satisfied: python-dateutil>=2.7.3 in /usr/local/lib/python3.7/dist-packages (from pandas>=0.18.0->pymc3) (2.8.1)\n",
            "Requirement already satisfied: pytz>=2017.2 in /usr/local/lib/python3.7/dist-packages (from pandas>=0.18.0->pymc3) (2018.9)\n",
            "Requirement already satisfied: six in /usr/local/lib/python3.7/dist-packages (from patsy>=0.4.0->pymc3) (1.15.0)\n"
          ],
          "name": "stdout"
        }
      ]
    },
    {
      "cell_type": "code",
      "metadata": {
        "colab": {
          "base_uri": "https://localhost:8080/"
        },
        "id": "_-s0zYbxK1zv",
        "outputId": "d6f57e96-336a-416e-b371-1aa18985b0f4"
      },
      "source": [
        "# using pymc\r\n",
        "\r\n",
        "import pymc3 as pm\r\n",
        "np.random.seed(1)\r\n",
        "\r\n",
        "mat1 = np.random.rand(10, 10)\r\n",
        "mat2 = np.random.rand(10, 10)\r\n",
        "#result = np.zeros([mat1.shape[0],mat2.shape[1]], dtype = np.float64)\r\n",
        "\r\n",
        "print(\"shape of mat1: \", mat1.shape)\r\n",
        "print(\"shape of mat2: \", mat2.shape)\r\n",
        "print(mat1[0])\r\n",
        "\r\n",
        "start = time.time()\r\n",
        "mat_result = pm.math.dot(mat1, mat2)\r\n",
        "total_time = time.time() - start\r\n",
        "print(\"time taken: \", total_time)\r\n",
        "print(\"result matrix shape: \", mat_result.shape)\r\n",
        "print(\"first row of result: \\n\", mat_result[0])"
      ],
      "execution_count": 23,
      "outputs": [
        {
          "output_type": "stream",
          "text": [
            "shape of mat1:  (10, 10)\n",
            "shape of mat2:  (10, 10)\n",
            "[4.17022005e-01 7.20324493e-01 1.14374817e-04 3.02332573e-01\n",
            " 1.46755891e-01 9.23385948e-02 1.86260211e-01 3.45560727e-01\n",
            " 3.96767474e-01 5.38816734e-01]\n",
            "time taken:  0.004866600036621094\n",
            "result matrix shape:  Shape.0\n",
            "first row of result: \n",
            " Subtensor{int64}.0\n"
          ],
          "name": "stdout"
        }
      ]
    }
  ]
}