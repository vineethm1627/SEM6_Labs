{
  "nbformat": 4,
  "nbformat_minor": 0,
  "metadata": {
    "colab": {
      "name": "E18CSE095_HPC_Lab_01.ipynb",
      "provenance": [],
      "collapsed_sections": []
    },
    "kernelspec": {
      "name": "python3",
      "display_name": "Python 3"
    }
  },
  "cells": [
    {
      "cell_type": "markdown",
      "metadata": {
        "id": "4VRESNQG60t9"
      },
      "source": [
        "Topic: Multi-threading <br>\r\n",
        "Name: M.Vineeth <br>\r\n",
        "Enrol: E18CSE095 <br>\r\n",
        "Batch: EB03"
      ]
    },
    {
      "cell_type": "markdown",
      "metadata": {
        "id": "XJbnnleC-3DB"
      },
      "source": [
        "**Sample code**"
      ]
    },
    {
      "cell_type": "code",
      "metadata": {
        "id": "hGYtfwXX-9C_"
      },
      "source": [
        "# Python program to illustrate the concept \r\n",
        "# of threading \r\n",
        "import threading \r\n",
        "import os \r\n",
        "\r\n",
        "def task1(): \r\n",
        "\tprint(\"Task 1 assigned to thread: {}\".format(threading.current_thread().name)) \r\n",
        "\tprint(\"ID of process running task 1: {}\".format(os.getpid())) \r\n",
        "\tfor i in range(100):\r\n",
        "\t\tprint(\"T1\",i)\r\n",
        "\r\n",
        "def task2(): \r\n",
        "\tprint(\"Task 2 assigned to thread: {}\".format(threading.current_thread().name)) \r\n",
        "\tprint(\"ID of process running task 2: {}\".format(os.getpid())) \r\n",
        "\tfor i in range(100):\r\n",
        "\t\tprint(\"T2\",i)\r\n",
        "\r\n",
        "if __name__ == \"__main__\": \r\n",
        "\r\n",
        "\t# print ID of current process \r\n",
        "\tprint(\"ID of process running main program: {}\".format(os.getpid())) \r\n",
        "\r\n",
        "\t# print name of main thread \r\n",
        "\tprint(\"Main thread name: {}\".format(threading.current_thread().name)) \r\n",
        "\r\n",
        "\t# creating threads \r\n",
        "\tt1 = threading.Thread(target=task1, name='t1') \r\n",
        "\tt2 = threading.Thread(target=task2, name='t2') \r\n",
        "\r\n",
        "\t# starting threads Spawn\r\n",
        "\tt1.start() \r\n",
        "\tt2.start() \r\n",
        "\r\n",
        "\t# wait until all threads finish Sync\r\n",
        "\tt1.join() \r\n",
        "\tt2.join() \r\n"
      ],
      "execution_count": null,
      "outputs": []
    },
    {
      "cell_type": "code",
      "metadata": {
        "colab": {
          "base_uri": "https://localhost:8080/"
        },
        "id": "08D4u7Yr-6E0",
        "outputId": "69e810be-0063-41fe-9279-4d6ae27250fa"
      },
      "source": [
        "def foo(bar, result, index):\r\n",
        "    print('hello {0}'.format(bar))\r\n",
        "    result[index] = \"foo\"\r\n",
        "\r\n",
        "from threading import Thread\r\n",
        "\r\n",
        "threads = [None] * 10\r\n",
        "results = [None] * 10\r\n",
        "\r\n",
        "for i in range(len(threads)):\r\n",
        "    threads[i] = Thread(target=foo, args=('world!', results, i))\r\n",
        "    threads[i].start()\r\n",
        "\r\n",
        "# do some other stuff\r\n",
        "\r\n",
        "for i in range(len(threads)):\r\n",
        "    threads[i].join()\r\n",
        "\r\n",
        "print(\" \".join(results))  # what sound does a metasyntactic locomotive make?"
      ],
      "execution_count": 2,
      "outputs": [
        {
          "output_type": "stream",
          "text": [
            "hello world!\n",
            "hello world!\n",
            "hello world!\n",
            "hello world!hello world!\n",
            "\n",
            "hello world!hello world!\n",
            "\n",
            "hello world!hello world!\n",
            "\n",
            "hello world!\n",
            "foo foo foo foo foo foo foo foo foo foo\n"
          ],
          "name": "stdout"
        }
      ]
    },
    {
      "cell_type": "markdown",
      "metadata": {
        "id": "-iF3rEpVTi5h"
      },
      "source": [
        "**Q1) Matrix Multiplication:** Create two matrices (each of size n*n) consisting of random integer numbers. Perform matrix multiplication a) using serial operations with nested for loops, b) using multithreading functionality to independently perform dot product operations in matrix multiplication, c) using built-in numpy matrix multiplication. Analyze different time taken for each of these implementations by changing a) size of the matrix size n, b) random integers into random floats, c) number of threads used (small vs large)"
      ]
    },
    {
      "cell_type": "markdown",
      "metadata": {
        "id": "tH-AUcSGTxzD"
      },
      "source": [
        "## a) serial operation on integers using for loops"
      ]
    },
    {
      "cell_type": "code",
      "metadata": {
        "colab": {
          "base_uri": "https://localhost:8080/"
        },
        "id": "YEkBc-YMRqzG",
        "outputId": "8d28882b-1df0-4c37-ed1f-00e33181e112"
      },
      "source": [
        "%%time\r\n",
        "import numpy as np\r\n",
        "import time\r\n",
        "np.random.seed(1)\r\n",
        "\r\n",
        "mat1 = np.random.rand(30, 20)\r\n",
        "mat2 = np.random.rand(20, 50)\r\n",
        "result = np.zeros([mat1.shape[0],mat2.shape[1]], dtype = np.float64)\r\n",
        "\r\n",
        "print(\"shape of mat1: \", mat1.shape)\r\n",
        "print(\"shape of mat2: \", mat2.shape)\r\n",
        "print(mat1[0])\r\n",
        "\r\n",
        "\r\n",
        "start = time.time()\r\n",
        "for i in range(mat1.shape[0]):\r\n",
        "  for j in range(mat2.shape[1]):\r\n",
        "    for k in range(mat2.shape[0]):\r\n",
        "      result[i][j] += mat1[i][k] * mat2[k][j]\r\n",
        "\r\n",
        "total_time = time.time() - start\r\n",
        "print(\"time taken: \", total_time)\r\n",
        "print(\"result matrix shape: \", result.shape)\r\n",
        "print(\"first row of result: \\n\", result[0])"
      ],
      "execution_count": 3,
      "outputs": [
        {
          "output_type": "stream",
          "text": [
            "shape of mat1:  (30, 20)\n",
            "shape of mat2:  (20, 50)\n",
            "[4.17022005e-01 7.20324493e-01 1.14374817e-04 3.02332573e-01\n",
            " 1.46755891e-01 9.23385948e-02 1.86260211e-01 3.45560727e-01\n",
            " 3.96767474e-01 5.38816734e-01 4.19194514e-01 6.85219500e-01\n",
            " 2.04452250e-01 8.78117436e-01 2.73875932e-02 6.70467510e-01\n",
            " 4.17304802e-01 5.58689828e-01 1.40386939e-01 1.98101489e-01]\n",
            "time taken:  0.04679465293884277\n",
            "result matrix shape:  (30, 50)\n",
            "first row of result: \n",
            " [3.02269559 4.57581511 3.86173184 2.5573084  3.6098011  4.20839179\n",
            " 4.22385131 3.11052628 3.70097018 3.63020725 3.55706345 4.27130746\n",
            " 3.6383437  3.71267705 2.4043966  4.07810538 3.5324224  3.24021633\n",
            " 4.06919701 3.09076641 3.32797594 3.9258675  2.49352572 3.6524059\n",
            " 3.68322915 4.17076267 2.99451748 3.4807555  3.74962345 4.17722625\n",
            " 3.06288689 3.79894045 3.74848052 3.87643154 4.70571973 2.67707038\n",
            " 4.38087656 3.24747753 2.71722556 5.19740323 3.47500493 4.01089589\n",
            " 3.88922239 3.79734004 3.95146529 4.7581368  3.94470327 3.72455398\n",
            " 4.59828984 3.781453  ]\n",
            "CPU times: user 49.4 ms, sys: 0 ns, total: 49.4 ms\n",
            "Wall time: 49.8 ms\n"
          ],
          "name": "stdout"
        }
      ]
    },
    {
      "cell_type": "markdown",
      "metadata": {
        "id": "tAtSNrQUT5K2"
      },
      "source": [
        "## b) using multi-threading"
      ]
    },
    {
      "cell_type": "code",
      "metadata": {
        "id": "Tzo3iewgYrGs"
      },
      "source": [
        "# one row of mat1 multiplied by every column of mat2 one by one\r\n",
        "def mat_multiply(mat1, mat2, ind):\r\n",
        "    for i in range(mat2.shape[1]): \r\n",
        "      for j in range(mat2.shape[0]): \r\n",
        "          result[ind][i] += mat1[j] * mat2[j][i]"
      ],
      "execution_count": 4,
      "outputs": []
    },
    {
      "cell_type": "code",
      "metadata": {
        "colab": {
          "base_uri": "https://localhost:8080/"
        },
        "id": "ia8DU8cOcueW",
        "outputId": "70f043b0-b0d2-4fce-e497-3212cf8e7c29"
      },
      "source": [
        "%%time\r\n",
        "from threading import Thread\r\n",
        "np.random.seed(1)\r\n",
        "\r\n",
        "mat1 = np.random.rand(30, 20)\r\n",
        "mat2 = np.random.rand(20, 50)\r\n",
        "result = np.zeros([mat1.shape[0],mat2.shape[1]], dtype = np.float64)\r\n",
        "\r\n",
        "print(\"shape of mat1: \", mat1.shape)\r\n",
        "print(\"shape of mat2: \", mat2.shape)\r\n",
        "print(mat1[0])\r\n",
        "\r\n",
        "threads = [None] * mat1.shape[0]\r\n",
        "\r\n",
        "start_time = time.time()\r\n",
        "for i in range(mat1.shape[0]):\r\n",
        "  threads[i] = Thread(target = mat_multiply, args = (mat1[i], mat2, i))\r\n",
        "  threads[i].start()\r\n",
        "\r\n",
        "for i in range(len(threads)):\r\n",
        "  threads[i].join()\r\n",
        "total_time = time.time() - start_time\r\n",
        "\r\n",
        "print(\"time taken is:\", total_time)\r\n",
        "print(\"result matrix shape: \", result.shape)\r\n",
        "print(\"first row of the result: \\n\", result[0])"
      ],
      "execution_count": 5,
      "outputs": [
        {
          "output_type": "stream",
          "text": [
            "shape of mat1:  (30, 20)\n",
            "shape of mat2:  (20, 50)\n",
            "[4.17022005e-01 7.20324493e-01 1.14374817e-04 3.02332573e-01\n",
            " 1.46755891e-01 9.23385948e-02 1.86260211e-01 3.45560727e-01\n",
            " 3.96767474e-01 5.38816734e-01 4.19194514e-01 6.85219500e-01\n",
            " 2.04452250e-01 8.78117436e-01 2.73875932e-02 6.70467510e-01\n",
            " 4.17304802e-01 5.58689828e-01 1.40386939e-01 1.98101489e-01]\n",
            "time taken is: 0.046820640563964844\n",
            "result matrix shape:  (30, 50)\n",
            "first row of the result: \n",
            " [3.02269559 4.57581511 3.86173184 2.5573084  3.6098011  4.20839179\n",
            " 4.22385131 3.11052628 3.70097018 3.63020725 3.55706345 4.27130746\n",
            " 3.6383437  3.71267705 2.4043966  4.07810538 3.5324224  3.24021633\n",
            " 4.06919701 3.09076641 3.32797594 3.9258675  2.49352572 3.6524059\n",
            " 3.68322915 4.17076267 2.99451748 3.4807555  3.74962345 4.17722625\n",
            " 3.06288689 3.79894045 3.74848052 3.87643154 4.70571973 2.67707038\n",
            " 4.38087656 3.24747753 2.71722556 5.19740323 3.47500493 4.01089589\n",
            " 3.88922239 3.79734004 3.95146529 4.7581368  3.94470327 3.72455398\n",
            " 4.59828984 3.781453  ]\n",
            "CPU times: user 31.2 ms, sys: 3.38 ms, total: 34.6 ms\n",
            "Wall time: 51.3 ms\n"
          ],
          "name": "stdout"
        }
      ]
    },
    {
      "cell_type": "markdown",
      "metadata": {
        "id": "5TYm2AetT-Mp"
      },
      "source": [
        "## c) using in-built function"
      ]
    },
    {
      "cell_type": "code",
      "metadata": {
        "colab": {
          "base_uri": "https://localhost:8080/"
        },
        "id": "lmcDTuzfUDNl",
        "outputId": "f32dce1a-6f6e-49df-e590-5b2eddd5c877"
      },
      "source": [
        "%time\r\n",
        "np.random.seed(1)\r\n",
        "\r\n",
        "mat1 = np.random.rand(30, 20)\r\n",
        "mat2 = np.random.rand(20, 50)\r\n",
        "result = np.zeros([mat1.shape[0],mat2.shape[1]], dtype = np.float64)\r\n",
        "\r\n",
        "print(\"shape of mat1: \", mat1.shape)\r\n",
        "print(\"shape of mat2: \", mat2.shape)\r\n",
        "print(mat1[0])\r\n",
        "\r\n",
        "start = time.time()\r\n",
        "result = mat1 @ mat2\r\n",
        "total_time = time.time() - start\r\n",
        "print(\"time taken: \", total_time)\r\n",
        "print(\"result matrix shape: \", result.shape)\r\n",
        "print(\"first row of result: \\n\", result[0])\r\n"
      ],
      "execution_count": 6,
      "outputs": [
        {
          "output_type": "stream",
          "text": [
            "CPU times: user 3 µs, sys: 1e+03 ns, total: 4 µs\n",
            "Wall time: 6.68 µs\n",
            "shape of mat1:  (30, 20)\n",
            "shape of mat2:  (20, 50)\n",
            "[4.17022005e-01 7.20324493e-01 1.14374817e-04 3.02332573e-01\n",
            " 1.46755891e-01 9.23385948e-02 1.86260211e-01 3.45560727e-01\n",
            " 3.96767474e-01 5.38816734e-01 4.19194514e-01 6.85219500e-01\n",
            " 2.04452250e-01 8.78117436e-01 2.73875932e-02 6.70467510e-01\n",
            " 4.17304802e-01 5.58689828e-01 1.40386939e-01 1.98101489e-01]\n",
            "time taken:  0.00023865699768066406\n",
            "result matrix shape:  (30, 50)\n",
            "first row of result: \n",
            " [3.02269559 4.57581511 3.86173184 2.5573084  3.6098011  4.20839179\n",
            " 4.22385131 3.11052628 3.70097018 3.63020725 3.55706345 4.27130746\n",
            " 3.6383437  3.71267705 2.4043966  4.07810538 3.5324224  3.24021633\n",
            " 4.06919701 3.09076641 3.32797594 3.9258675  2.49352572 3.6524059\n",
            " 3.68322915 4.17076267 2.99451748 3.4807555  3.74962345 4.17722625\n",
            " 3.06288689 3.79894045 3.74848052 3.87643154 4.70571973 2.67707038\n",
            " 4.38087656 3.24747753 2.71722556 5.19740323 3.47500493 4.01089589\n",
            " 3.88922239 3.79734004 3.95146529 4.7581368  3.94470327 3.72455398\n",
            " 4.59828984 3.781453  ]\n"
          ],
          "name": "stdout"
        }
      ]
    },
    {
      "cell_type": "markdown",
      "metadata": {
        "id": "HTJhUiXtGB7z"
      },
      "source": [
        "**Q2) Linear Search:** Create a random integer array A of size n (preferably large). Write a program to perform linear search for a given input x (i.e. finding the indices of the search element x in the array A) a) using serial linear search iteration each value, b) using approach that divides given array and perform simultaneous search using threading, c) using built-in functions. Analyze different time taken for each of these implementations by a) changing size n of the array, b) changing integer random values into float numbers, c) number of threads used (small vs large)\r\n",
        "\r\n"
      ]
    },
    {
      "cell_type": "markdown",
      "metadata": {
        "id": "GFJWek0TLvHU"
      },
      "source": [
        "## a) serial operation on integers using for loop"
      ]
    },
    {
      "cell_type": "code",
      "metadata": {
        "colab": {
          "base_uri": "https://localhost:8080/"
        },
        "id": "XlKGYSXb9huY",
        "outputId": "94ccaa7f-e04f-4bca-c9df-b91cb7e5a2f6"
      },
      "source": [
        "%%time\r\n",
        "import time\r\n",
        "import numpy as np\r\n",
        "np.random.seed(1)\r\n",
        "arr = np.random.randint(10000, size = (1000))\r\n",
        "print(\"shape of the array: \", arr.shape)\r\n",
        "print(\"last elements of the array: \", arr[989:])\r\n",
        "\r\n",
        "ind = []\r\n",
        "key = arr[990] # element to be searched\r\n",
        "start = time.time()\r\n",
        "for i in range(len(arr)):\r\n",
        "  if(arr[i] == key):\r\n",
        "    ind.append(i)\r\n",
        "total_time = time.time() - start\r\n",
        "print(\"element to be searched: \", key)\r\n",
        "if(len(ind) == 0):\r\n",
        "  print(\"element not found\")\r\n",
        "else:\r\n",
        "  print(\"element found at index: \", ind)\r\n",
        "print(\"total time: \", total_time)"
      ],
      "execution_count": 7,
      "outputs": [
        {
          "output_type": "stream",
          "text": [
            "shape of the array:  (1000,)\n",
            "last elements of the array:  [ 868 3629 4745 8152 8238  633 4666 6165 1280 5973 6171]\n",
            "element to be searched:  3629\n",
            "element found at index:  [740, 990]\n",
            "total time:  0.0004050731658935547\n",
            "CPU times: user 2.02 ms, sys: 1 ms, total: 3.02 ms\n",
            "Wall time: 3.11 ms\n"
          ],
          "name": "stdout"
        }
      ]
    },
    {
      "cell_type": "markdown",
      "metadata": {
        "id": "T5BzKkWQLpyq"
      },
      "source": [
        "## b) using multi-threading"
      ]
    },
    {
      "cell_type": "code",
      "metadata": {
        "colab": {
          "base_uri": "https://localhost:8080/"
        },
        "id": "4VHaPgeKIJSS",
        "outputId": "92f85fce-669b-46fb-cd5f-9827fb115487"
      },
      "source": [
        "%%time\r\n",
        "def search(arr, i, j, key, ind):\r\n",
        "  for k in range(i, j):\r\n",
        "    if(arr[k] == key):\r\n",
        "      ind.append(k)"
      ],
      "execution_count": 8,
      "outputs": [
        {
          "output_type": "stream",
          "text": [
            "CPU times: user 4 µs, sys: 1e+03 ns, total: 5 µs\n",
            "Wall time: 8.34 µs\n"
          ],
          "name": "stdout"
        }
      ]
    },
    {
      "cell_type": "code",
      "metadata": {
        "colab": {
          "base_uri": "https://localhost:8080/"
        },
        "id": "8cDIvA5bKYo8",
        "outputId": "b90dc5e8-8f3b-4ee9-c9c3-a04ccf264818"
      },
      "source": [
        "%%time\r\n",
        "import threading\r\n",
        "from threading import Thread\r\n",
        "np.random.seed(1)\r\n",
        "total_threads = 4\r\n",
        "\r\n",
        "arr = np.random.randint(10000, size = (1000))\r\n",
        "print(\"shape of the array: \", arr.shape)\r\n",
        "print(\"first 10 elements of the array: \", arr[:10])\r\n",
        "\r\n",
        "threads = [None] * total_threads\r\n",
        "ind = []\r\n",
        "\r\n",
        "index = -250\r\n",
        "start = time.time()\r\n",
        "for i in range(total_threads):\r\n",
        "  index += 250\r\n",
        "  threads[i] = Thread(target = search, args=(arr, index, index + 250, key, ind))\r\n",
        "  threads[i].start()\r\n",
        "\r\n",
        "for i in range(total_threads):\r\n",
        "    threads[i].join()\r\n",
        "\r\n",
        "key = arr[990] # element to be searched\r\n",
        "start = time.time()\r\n",
        "ind = np.where(arr == key)\r\n",
        "total_time = time.time() - start\r\n",
        "print(\"element to be searched: \", key)\r\n",
        "if(len(ind) == 0):\r\n",
        "  print(\"element not found\")\r\n",
        "else:\r\n",
        "  print(\"element found at index: \", ind)\r\n",
        "print(\"total time: \", total_time)"
      ],
      "execution_count": 9,
      "outputs": [
        {
          "output_type": "stream",
          "text": [
            "shape of the array:  (1000,)\n",
            "first 10 elements of the array:  [ 235 5192  905 7813 2895 5056  144 4225 7751 3462]\n",
            "element to be searched:  3629\n",
            "element found at index:  (array([740, 990]),)\n",
            "total time:  4.649162292480469e-05\n",
            "CPU times: user 2.28 ms, sys: 0 ns, total: 2.28 ms\n",
            "Wall time: 2.47 ms\n"
          ],
          "name": "stdout"
        }
      ]
    },
    {
      "cell_type": "markdown",
      "metadata": {
        "id": "wGLrcr39LmGT"
      },
      "source": [
        "## c) using in-built function"
      ]
    },
    {
      "cell_type": "code",
      "metadata": {
        "colab": {
          "base_uri": "https://localhost:8080/"
        },
        "id": "1Yjv62y2IO5z",
        "outputId": "88ab6990-c0be-4a8c-f15b-bbb73eca2999"
      },
      "source": [
        "%%time\r\n",
        "import time\r\n",
        "import numpy as np\r\n",
        "np.random.seed(1)\r\n",
        "arr = np.random.randint(10000, size = (1000))\r\n",
        "print(\"shape of the array: \", arr.shape)\r\n",
        "print(\"last elements of the array: \", arr[989:])\r\n",
        "\r\n",
        "ind = []\r\n",
        "key = arr[990] # element to be searched\r\n",
        "start = time.time()\r\n",
        "ind = np.where(arr == key)\r\n",
        "total_time = time.time() - start\r\n",
        "print(\"element to be searched: \", key)\r\n",
        "if(len(ind) == 0):\r\n",
        "  print(\"element not found\")\r\n",
        "else:\r\n",
        "  print(\"element found at index: \", ind)\r\n",
        "print(\"total time: \", total_time)"
      ],
      "execution_count": 10,
      "outputs": [
        {
          "output_type": "stream",
          "text": [
            "shape of the array:  (1000,)\n",
            "last elements of the array:  [ 868 3629 4745 8152 8238  633 4666 6165 1280 5973 6171]\n",
            "element to be searched:  3629\n",
            "element found at index:  (array([740, 990]),)\n",
            "total time:  2.9087066650390625e-05\n",
            "CPU times: user 2.93 ms, sys: 0 ns, total: 2.93 ms\n",
            "Wall time: 3.14 ms\n"
          ],
          "name": "stdout"
        }
      ]
    },
    {
      "cell_type": "markdown",
      "metadata": {
        "id": "9qIJSMMDL-R8"
      },
      "source": [
        "## Exploration: Linear Search on floating point numbers and large array"
      ]
    },
    {
      "cell_type": "markdown",
      "metadata": {
        "id": "xmSsoaxKNNDE"
      },
      "source": [
        "## a) serial operation on integers using for loop"
      ]
    },
    {
      "cell_type": "code",
      "metadata": {
        "colab": {
          "base_uri": "https://localhost:8080/"
        },
        "id": "uXw5IK77L9kB",
        "outputId": "713abef3-a92a-423f-d5d0-343a219f33db"
      },
      "source": [
        "%%time\r\n",
        "import time\r\n",
        "import numpy as np\r\n",
        "np.random.seed(1)\r\n",
        "arr = np.random.rand(1000000)\r\n",
        "print(\"shape of the array: \", arr.shape)\r\n",
        "\r\n",
        "ind = []\r\n",
        "key = arr[9890] # element to be searched\r\n",
        "start = time.time()\r\n",
        "for i in range(len(arr)):\r\n",
        "  if(arr[i] == key):\r\n",
        "    ind.append(i)\r\n",
        "total_time = time.time() - start\r\n",
        "print(\"element to be searched: \", key)\r\n",
        "if(len(ind) == 0):\r\n",
        "  print(\"element not found\")\r\n",
        "else:\r\n",
        "  print(\"element found at index: \", ind)\r\n",
        "print(\"total time: \", total_time)"
      ],
      "execution_count": 11,
      "outputs": [
        {
          "output_type": "stream",
          "text": [
            "shape of the array:  (1000000,)\n",
            "element to be searched:  0.6087199713620096\n",
            "element found at index:  [9890]\n",
            "total time:  0.24229812622070312\n",
            "CPU times: user 250 ms, sys: 4.77 ms, total: 254 ms\n",
            "Wall time: 256 ms\n"
          ],
          "name": "stdout"
        }
      ]
    },
    {
      "cell_type": "markdown",
      "metadata": {
        "id": "MEeg9lpiN3Vt"
      },
      "source": [
        "## b) using multi-threading"
      ]
    },
    {
      "cell_type": "code",
      "metadata": {
        "colab": {
          "base_uri": "https://localhost:8080/"
        },
        "id": "fobkZI1fI8MQ",
        "outputId": "affa9873-b7fb-4b04-f731-bcd52db10c50"
      },
      "source": [
        "%%time\r\n",
        "def search(arr, i, j, key, ind):\r\n",
        "  for k in range(i, j):\r\n",
        "    if(arr[k] == key):\r\n",
        "      ind.append(k)"
      ],
      "execution_count": 12,
      "outputs": [
        {
          "output_type": "stream",
          "text": [
            "CPU times: user 4 µs, sys: 1 µs, total: 5 µs\n",
            "Wall time: 6.68 µs\n"
          ],
          "name": "stdout"
        }
      ]
    },
    {
      "cell_type": "code",
      "metadata": {
        "colab": {
          "base_uri": "https://localhost:8080/"
        },
        "id": "r46isXLIN6WX",
        "outputId": "82cdc05a-9832-4ca9-c18e-1dcee0222f73"
      },
      "source": [
        "%%time\r\n",
        "import threading\r\n",
        "from threading import Thread\r\n",
        "np.random.seed(1)\r\n",
        "total_threads = 4\r\n",
        "\r\n",
        "arr = np.random.rand(1000000)\r\n",
        "print(\"shape of the array: \", arr.shape)\r\n",
        "print(\"first 10 elements of the array: \", arr[:10])\r\n",
        "\r\n",
        "threads = [None] * total_threads\r\n",
        "ind = []\r\n",
        "\r\n",
        "index = -25000\r\n",
        "start = time.time()\r\n",
        "for i in range(total_threads):\r\n",
        "  index += 25000\r\n",
        "  threads[i] = Thread(target = search, args=(arr, index, index + 25000, key, ind))\r\n",
        "  threads[i].start()\r\n",
        "\r\n",
        "for i in range(total_threads):\r\n",
        "    threads[i].join()\r\n",
        "\r\n",
        "key = arr[9890] # element to be searched\r\n",
        "start = time.time()\r\n",
        "ind = np.where(arr == key)\r\n",
        "total_time = time.time() - start\r\n",
        "print(\"element to be searched: \", key)\r\n",
        "if(len(ind) == 0):\r\n",
        "  print(\"element not found\")\r\n",
        "else:\r\n",
        "  print(\"element found at index: \", ind)\r\n",
        "print(\"total time: \", total_time)"
      ],
      "execution_count": 13,
      "outputs": [
        {
          "output_type": "stream",
          "text": [
            "shape of the array:  (1000000,)\n",
            "first 10 elements of the array:  [4.17022005e-01 7.20324493e-01 1.14374817e-04 3.02332573e-01\n",
            " 1.46755891e-01 9.23385948e-02 1.86260211e-01 3.45560727e-01\n",
            " 3.96767474e-01 5.38816734e-01]\n",
            "element to be searched:  0.6087199713620096\n",
            "element found at index:  (array([9890]),)\n",
            "total time:  0.0013561248779296875\n",
            "CPU times: user 30.7 ms, sys: 3.78 ms, total: 34.4 ms\n",
            "Wall time: 36.9 ms\n"
          ],
          "name": "stdout"
        }
      ]
    },
    {
      "cell_type": "markdown",
      "metadata": {
        "id": "jvf4gvjPSmk1"
      },
      "source": [
        "## c) using in-built function"
      ]
    },
    {
      "cell_type": "code",
      "metadata": {
        "colab": {
          "base_uri": "https://localhost:8080/"
        },
        "id": "yaiXFg2CSkHD",
        "outputId": "8ddb2cab-46c8-4154-efb0-f8036be23538"
      },
      "source": [
        "%%time\r\n",
        "import time\r\n",
        "import numpy as np\r\n",
        "np.random.seed(1)\r\n",
        "arr = np.random.rand(1000000)\r\n",
        "print(\"shape of the array: \", arr.shape)\r\n",
        "print(\"first 10 elements of the array: \", arr[:10])\r\n",
        "\r\n",
        "ind = []\r\n",
        "key = arr[9890] # element to be searched\r\n",
        "start = time.time()\r\n",
        "ind = np.where(arr == key)\r\n",
        "total_time = time.time() - start\r\n",
        "print(\"element to be searched: \", key)\r\n",
        "if(len(ind) == 0):\r\n",
        "  print(\"element not found\")\r\n",
        "else:\r\n",
        "  print(\"element found at index: \", ind)\r\n",
        "print(\"total time: \", total_time)"
      ],
      "execution_count": 14,
      "outputs": [
        {
          "output_type": "stream",
          "text": [
            "shape of the array:  (1000000,)\n",
            "first 10 elements of the array:  [4.17022005e-01 7.20324493e-01 1.14374817e-04 3.02332573e-01\n",
            " 1.46755891e-01 9.23385948e-02 1.86260211e-01 3.45560727e-01\n",
            " 3.96767474e-01 5.38816734e-01]\n",
            "element to be searched:  0.6087199713620096\n",
            "element found at index:  (array([9890]),)\n",
            "total time:  0.0013196468353271484\n",
            "CPU times: user 12.9 ms, sys: 810 µs, total: 13.7 ms\n",
            "Wall time: 13.4 ms\n"
          ],
          "name": "stdout"
        }
      ]
    },
    {
      "cell_type": "markdown",
      "metadata": {
        "id": "D5gsAsot7ESO"
      },
      "source": [
        "**Q3) Array Sum:** Create a random integer array A of size n (preferably large). Write a program to perform sum of array a) using for loop which adds elements one by one, b) using an approach that divides given array and perform simultaneous addition using threading and further adding the thread results into final result, c) using built-in functions. Analyze different time taken for each of these implementations by a) changing size n of the array, b) changing integer random values into float numbers, c) number of threads used (small vs large)."
      ]
    },
    {
      "cell_type": "markdown",
      "metadata": {
        "id": "yxpfbXBTMc8l"
      },
      "source": [
        "## a) serial operation on integers using for loop"
      ]
    },
    {
      "cell_type": "code",
      "metadata": {
        "colab": {
          "base_uri": "https://localhost:8080/"
        },
        "id": "ern3urd56uQ_",
        "outputId": "80fe9f8b-160a-4548-93c9-09530a13b309"
      },
      "source": [
        "%%time\r\n",
        "import time\r\n",
        "import numpy as np\r\n",
        "np.random.seed(1)\r\n",
        "arr = np.random.randint(10000, size = (1000))\r\n",
        "print(\"shape of the array: \", arr.shape)\r\n",
        "print(\"first 10 elements of the array: \", arr[:10])\r\n",
        "\r\n",
        "sum = 0\r\n",
        "start = time.time()\r\n",
        "for i in arr:\r\n",
        "  sum += i\r\n",
        "total_time = time.time() - start\r\n",
        "print(\"array sum = \", sum)\r\n",
        "print(\"total time: \", total_time)"
      ],
      "execution_count": 15,
      "outputs": [
        {
          "output_type": "stream",
          "text": [
            "shape of the array:  (1000,)\n",
            "first 10 elements of the array:  [ 235 5192  905 7813 2895 5056  144 4225 7751 3462]\n",
            "array sum =  4960055\n",
            "total time:  0.0004565715789794922\n",
            "CPU times: user 2.57 ms, sys: 938 µs, total: 3.51 ms\n",
            "Wall time: 4 ms\n"
          ],
          "name": "stdout"
        }
      ]
    },
    {
      "cell_type": "markdown",
      "metadata": {
        "id": "Fb3Jcb_VMaJX"
      },
      "source": [
        "## b) using multi-threading"
      ]
    },
    {
      "cell_type": "code",
      "metadata": {
        "id": "gphpU68rBQfh"
      },
      "source": [
        "def summation(arr, i , j, results, index):\r\n",
        "  sum = 0\r\n",
        "  #print(i, \" : \", j)\r\n",
        "  for ind in range(i, j):\r\n",
        "    sum += arr[ind]\r\n",
        "  \r\n",
        "  results[index] = sum"
      ],
      "execution_count": 16,
      "outputs": []
    },
    {
      "cell_type": "code",
      "metadata": {
        "colab": {
          "base_uri": "https://localhost:8080/"
        },
        "id": "5qFC86sK750g",
        "outputId": "70c15ffb-c269-4188-d492-cfdef69b7f14"
      },
      "source": [
        "%%time\r\n",
        "import threading\r\n",
        "from threading import Thread\r\n",
        "np.random.seed(1)\r\n",
        "total_threads = 4\r\n",
        "\r\n",
        "arr = np.random.randint(10000, size = (1000))\r\n",
        "print(\"shape of the array: \", arr.shape)\r\n",
        "print(\"first 10 elements of the array: \", arr[:10])\r\n",
        "\r\n",
        "threads = [None] * total_threads\r\n",
        "results = [None] * total_threads\r\n",
        "\r\n",
        "index = -250\r\n",
        "start = time.time()\r\n",
        "for i in range(total_threads):\r\n",
        "  index += 250\r\n",
        "  threads[i] = Thread(target = summation, args=(arr, index, index + 250, results, i))\r\n",
        "  threads[i].start()\r\n",
        "\r\n",
        "for i in range(total_threads):\r\n",
        "    threads[i].join()\r\n",
        "\r\n",
        "sum = 0\r\n",
        "for i in results:\r\n",
        "  sum += i\r\n",
        "total_time = time.time() - start\r\n",
        "print(\"array sum = \", sum)\r\n",
        "print(\"total time: \", total_time)"
      ],
      "execution_count": 17,
      "outputs": [
        {
          "output_type": "stream",
          "text": [
            "shape of the array:  (1000,)\n",
            "first 10 elements of the array:  [ 235 5192  905 7813 2895 5056  144 4225 7751 3462]\n",
            "array sum =  4960055\n",
            "total time:  0.0009291172027587891\n",
            "CPU times: user 1.96 ms, sys: 0 ns, total: 1.96 ms\n",
            "Wall time: 2.42 ms\n"
          ],
          "name": "stdout"
        }
      ]
    },
    {
      "cell_type": "markdown",
      "metadata": {
        "id": "YprDNEXcMVdg"
      },
      "source": [
        "## c) using in-built function"
      ]
    },
    {
      "cell_type": "code",
      "metadata": {
        "colab": {
          "base_uri": "https://localhost:8080/"
        },
        "id": "nyFVM7O79Zpo",
        "outputId": "e7f413c0-ab2a-42ba-91fa-dd0e5d21dea2"
      },
      "source": [
        "%%time\r\n",
        "np.random.seed(1)\r\n",
        "arr = np.random.randint(10000, size = (1000))\r\n",
        "print(\"shape of the array: \", arr.shape)\r\n",
        "print(\"first 10 elements of the array: \", arr[:10])\r\n",
        "\r\n",
        "sum = 0\r\n",
        "start = time.time()\r\n",
        "sum = np.sum(arr)\r\n",
        "total_time = time.time() - start\r\n",
        "print(\"array sum = \", sum)\r\n",
        "print(\"total time: \", total_time)"
      ],
      "execution_count": 18,
      "outputs": [
        {
          "output_type": "stream",
          "text": [
            "shape of the array:  (1000,)\n",
            "first 10 elements of the array:  [ 235 5192  905 7813 2895 5056  144 4225 7751 3462]\n",
            "array sum =  4960055\n",
            "total time:  3.695487976074219e-05\n",
            "CPU times: user 1.14 ms, sys: 1.02 ms, total: 2.16 ms\n",
            "Wall time: 2.31 ms\n"
          ],
          "name": "stdout"
        }
      ]
    },
    {
      "cell_type": "markdown",
      "metadata": {
        "id": "WGSu-McS4_fG"
      },
      "source": [
        "## Playing around with the number of threads, given a large value of n"
      ]
    },
    {
      "cell_type": "code",
      "metadata": {
        "id": "7-gOI0Ow5Hrm"
      },
      "source": [
        "def summation(arr, i , j, results, index):\r\n",
        "  sum = 0\r\n",
        "  #print(i, \" : \", j)\r\n",
        "  for ind in range(i, j):\r\n",
        "    sum += arr[ind]\r\n",
        "  \r\n",
        "  results[index] = sum"
      ],
      "execution_count": 29,
      "outputs": []
    },
    {
      "cell_type": "code",
      "metadata": {
        "colab": {
          "base_uri": "https://localhost:8080/"
        },
        "id": "SYdNsQDr5miX",
        "outputId": "498a18f6-510a-49ae-afe6-97809952664e"
      },
      "source": [
        "%%time\r\n",
        "import threading\r\n",
        "from threading import Thread\r\n",
        "np.random.seed(1)\r\n",
        "arr = np.random.randint(10000, size = (1000))\r\n",
        "print(\"shape of the array: \", arr.shape)\r\n",
        "print(\"first 10 elements of the array: \", arr[:10])\r\n",
        "\r\n",
        "for th in range(1, 200, 10):\r\n",
        "  threads = [None] * th\r\n",
        "  results = [None] * th\r\n",
        "\r\n",
        "  index = -int(arr.shape[0] / th)\r\n",
        "  start = time.time()\r\n",
        "  for i in range(th):\r\n",
        "    index += int(arr.shape[0] / th)\r\n",
        "    threads[i] = Thread(target = summation, args=(arr, index, index + int(arr.shape[0] / th), results, i))\r\n",
        "    threads[i].start()\r\n",
        "\r\n",
        "  for i in range(th):\r\n",
        "      threads[i].join()\r\n",
        "\r\n",
        "  sum = 0\r\n",
        "  for i in results:\r\n",
        "    sum += i\r\n",
        "  total_time = time.time() - start\r\n",
        "  print(\"threads used: \", th)\r\n",
        "  print(\"total time: \", total_time)\r\n",
        "  print(\"-----------------------------------\\n\")"
      ],
      "execution_count": 37,
      "outputs": [
        {
          "output_type": "stream",
          "text": [
            "shape of the array:  (1000,)\n",
            "first 10 elements of the array:  [ 235 5192  905 7813 2895 5056  144 4225 7751 3462]\n",
            "threads used:  1\n",
            "total time:  0.0017995834350585938\n",
            "-----------------------------------\n",
            "\n",
            "threads used:  11\n",
            "total time:  0.005407094955444336\n",
            "-----------------------------------\n",
            "\n",
            "threads used:  21\n",
            "total time:  0.0036067962646484375\n",
            "-----------------------------------\n",
            "\n",
            "threads used:  31\n",
            "total time:  0.004203081130981445\n",
            "-----------------------------------\n",
            "\n",
            "threads used:  41\n",
            "total time:  0.006136894226074219\n",
            "-----------------------------------\n",
            "\n",
            "threads used:  51\n",
            "total time:  0.005465269088745117\n",
            "-----------------------------------\n",
            "\n",
            "threads used:  61\n",
            "total time:  0.009030342102050781\n",
            "-----------------------------------\n",
            "\n",
            "threads used:  71\n",
            "total time:  0.010075092315673828\n",
            "-----------------------------------\n",
            "\n",
            "threads used:  81\n",
            "total time:  0.010286331176757812\n",
            "-----------------------------------\n",
            "\n",
            "threads used:  91\n",
            "total time:  0.01144266128540039\n",
            "-----------------------------------\n",
            "\n",
            "threads used:  101\n",
            "total time:  0.01252436637878418\n",
            "-----------------------------------\n",
            "\n",
            "threads used:  111\n",
            "total time:  0.011940956115722656\n",
            "-----------------------------------\n",
            "\n",
            "threads used:  121\n",
            "total time:  0.013857841491699219\n",
            "-----------------------------------\n",
            "\n",
            "threads used:  131\n",
            "total time:  0.01587700843811035\n",
            "-----------------------------------\n",
            "\n",
            "threads used:  141\n",
            "total time:  0.017943143844604492\n",
            "-----------------------------------\n",
            "\n",
            "threads used:  151\n",
            "total time:  0.01729297637939453\n",
            "-----------------------------------\n",
            "\n",
            "threads used:  161\n",
            "total time:  0.016862154006958008\n",
            "-----------------------------------\n",
            "\n",
            "threads used:  171\n",
            "total time:  0.02378678321838379\n",
            "-----------------------------------\n",
            "\n",
            "threads used:  181\n",
            "total time:  0.020313262939453125\n",
            "-----------------------------------\n",
            "\n",
            "threads used:  191\n",
            "total time:  0.02094268798828125\n",
            "-----------------------------------\n",
            "\n",
            "CPU times: user 90.8 ms, sys: 109 ms, total: 200 ms\n",
            "Wall time: 255 ms\n"
          ],
          "name": "stdout"
        }
      ]
    },
    {
      "cell_type": "markdown",
      "metadata": {
        "id": "Tmom_yOOw7fw"
      },
      "source": [
        "**Q4) Prime Numbers:**Write a program to print all prime numbers from 1 to given number N, a) using serial executing of for loop and finding prime number, b) using an approach that divides search space (from 1 to N) using threading and aggregating thread results into final result. Analyze different time taken for each of these implementations by a) changing N b) number of threads used (small vs large)."
      ]
    },
    {
      "cell_type": "markdown",
      "metadata": {
        "id": "8f6T_Rs4xNKm"
      },
      "source": [
        "## a) serial operation using for loop"
      ]
    },
    {
      "cell_type": "code",
      "metadata": {
        "id": "CdiwdKkOqwxZ"
      },
      "source": [
        "def findPrimes(n):\r\n",
        "  for i in range(2, n + 1):\r\n",
        "    flag = 1\r\n",
        "    for j in range(2, i):\r\n",
        "      if(i % j == 0):\r\n",
        "        flag = 0\r\n",
        "        break\r\n",
        "    \r\n",
        "    if(flag):\r\n",
        "      results.append(i) "
      ],
      "execution_count": 19,
      "outputs": []
    },
    {
      "cell_type": "code",
      "metadata": {
        "colab": {
          "base_uri": "https://localhost:8080/"
        },
        "id": "2jTwL-fLx7ry",
        "outputId": "48b36a5a-499f-4f1d-fbce-2d7189f54f96"
      },
      "source": [
        "%%time\r\n",
        "results = []\r\n",
        "\r\n",
        "n = 10000\r\n",
        "start = time.time()\r\n",
        "findPrimes(n)\r\n",
        "total_time = time.time() - start\r\n",
        "\r\n",
        "print(\"total time: \", total_time)\r\n",
        "print(\"prime numbers: \", results[-10:])"
      ],
      "execution_count": 20,
      "outputs": [
        {
          "output_type": "stream",
          "text": [
            "total time:  0.406233549118042\n",
            "prime numbers:  [9887, 9901, 9907, 9923, 9929, 9931, 9941, 9949, 9967, 9973]\n",
            "CPU times: user 401 ms, sys: 2.38 ms, total: 404 ms\n",
            "Wall time: 406 ms\n"
          ],
          "name": "stdout"
        }
      ]
    },
    {
      "cell_type": "markdown",
      "metadata": {
        "id": "XF87Wa8Az8Ts"
      },
      "source": [
        "## b) using multi-threading"
      ]
    },
    {
      "cell_type": "code",
      "metadata": {
        "id": "9F087DbK2BQp"
      },
      "source": [
        "def primesRange(start, end):\r\n",
        "  for i in range(start, end):\r\n",
        "    flag = 1\r\n",
        "    for j in range(2, i):\r\n",
        "      if(i % j == 0):\r\n",
        "        flag = 0\r\n",
        "        break\r\n",
        "    \r\n",
        "    if(flag):\r\n",
        "      results.append(i) "
      ],
      "execution_count": 21,
      "outputs": []
    },
    {
      "cell_type": "code",
      "metadata": {
        "colab": {
          "base_uri": "https://localhost:8080/"
        },
        "id": "nM9LkyNOzkkl",
        "outputId": "73b1e412-9a49-4f57-ec30-1e8153b47216"
      },
      "source": [
        "%%time\r\n",
        "results = []\r\n",
        "n = 10000\r\n",
        "total_threads = 10\r\n",
        "threads = [None] * total_threads\r\n",
        "\r\n",
        "start = 2\r\n",
        "end = int(n / total_threads) - 1\r\n",
        "start_time = time.time()\r\n",
        "for i in range(total_threads):\r\n",
        "  threads[i] = Thread(target = primesRange, args = (start, end))\r\n",
        "  threads[i].start()\r\n",
        "  start = end + 1\r\n",
        "  end = start + int(n / total_threads) - 1\r\n",
        "\r\n",
        "for i in range(total_threads):\r\n",
        "  threads[i].join()\r\n",
        "\r\n",
        "total_time = time.time() - start_time\r\n",
        "\r\n",
        "print(\"total time: \", total_time)\r\n",
        "print(\"prime numbers: \", results[-10:])"
      ],
      "execution_count": 22,
      "outputs": [
        {
          "output_type": "stream",
          "text": [
            "total time:  0.42180728912353516\n",
            "prime numbers:  [9887, 9901, 9907, 9923, 9929, 9931, 9941, 9949, 9967, 9973]\n",
            "CPU times: user 413 ms, sys: 944 µs, total: 414 ms\n",
            "Wall time: 422 ms\n"
          ],
          "name": "stdout"
        }
      ]
    },
    {
      "cell_type": "markdown",
      "metadata": {
        "id": "3nglMPNm0AX3"
      },
      "source": [
        "## c) using in-built function"
      ]
    },
    {
      "cell_type": "code",
      "metadata": {
        "colab": {
          "base_uri": "https://localhost:8080/"
        },
        "id": "N4j4DPY-0Fsc",
        "outputId": "a413bc79-fedc-4875-d5a4-03157d18b1bb"
      },
      "source": [
        "%%time\r\n",
        "import sympy\r\n",
        "results = []\r\n",
        "\r\n",
        "n = 10000\r\n",
        "start = time.time()\r\n",
        "results = list(sympy.primerange(1, n))\r\n",
        "total_time = time.time() - start\r\n",
        "\r\n",
        "print(\"total time: \", total_time)\r\n",
        "print(\"prime numbers: \", results[-10:])\r\n",
        "\r\n"
      ],
      "execution_count": 23,
      "outputs": [
        {
          "output_type": "stream",
          "text": [
            "total time:  0.006270170211791992\n",
            "prime numbers:  [9887, 9901, 9907, 9923, 9929, 9931, 9941, 9949, 9967, 9973]\n",
            "CPU times: user 295 ms, sys: 22.1 ms, total: 317 ms\n",
            "Wall time: 321 ms\n"
          ],
          "name": "stdout"
        }
      ]
    },
    {
      "cell_type": "code",
      "metadata": {
        "colab": {
          "base_uri": "https://localhost:8080/"
        },
        "id": "_pWm90yi0ULE",
        "outputId": "ecc3ed09-3a09-4b51-acde-7770457c37a0"
      },
      "source": [
        "%%time\r\n",
        "import sympy\r\n",
        "results = []\r\n",
        "\r\n",
        "n = 10000\r\n",
        "start = time.time()\r\n",
        "results = list(sympy.sieve.primerange(1, n))\r\n",
        "total_time = time.time() - start\r\n",
        "\r\n",
        "print(\"total time: \", total_time)\r\n",
        "print(\"prime numbers: \", results[-10:])"
      ],
      "execution_count": 24,
      "outputs": [
        {
          "output_type": "stream",
          "text": [
            "total time:  0.006578683853149414\n",
            "prime numbers:  [9887, 9901, 9907, 9923, 9929, 9931, 9941, 9949, 9967, 9973]\n",
            "CPU times: user 7 ms, sys: 0 ns, total: 7 ms\n",
            "Wall time: 7.33 ms\n"
          ],
          "name": "stdout"
        }
      ]
    },
    {
      "cell_type": "markdown",
      "metadata": {
        "id": "wW80aCH24DAN"
      },
      "source": [
        "## Playing around with the number of threads"
      ]
    },
    {
      "cell_type": "code",
      "metadata": {
        "id": "T9Aw14ak0_7M"
      },
      "source": [
        "def primesRange(start, end):\r\n",
        "  for i in range(start, end):\r\n",
        "    flag = 1\r\n",
        "    for j in range(2, i):\r\n",
        "      if(i % j == 0):\r\n",
        "        flag = 0\r\n",
        "        break\r\n",
        "    \r\n",
        "    if(flag):\r\n",
        "      results.append(i) "
      ],
      "execution_count": 25,
      "outputs": []
    },
    {
      "cell_type": "code",
      "metadata": {
        "colab": {
          "base_uri": "https://localhost:8080/"
        },
        "id": "C5YpTGFI4KMO",
        "outputId": "0cf3be0d-bcb7-4c61-ba27-df3311147265"
      },
      "source": [
        "%%time\r\n",
        "\r\n",
        "n = 10000\r\n",
        "for th in range(1, 200, 10):\r\n",
        "  results = []\r\n",
        "  threads = [None] * th\r\n",
        "  start = 2\r\n",
        "  end = int(n / th) - 1\r\n",
        "  start_time = time.time()\r\n",
        "  for i in range(th):\r\n",
        "    threads[i] = Thread(target = primesRange, args = (start, end))\r\n",
        "    threads[i].start()\r\n",
        "    start = end + 1\r\n",
        "    end = start + int(n / th) - 1\r\n",
        "\r\n",
        "  for i in range(th):\r\n",
        "    threads[i].join()\r\n",
        "\r\n",
        "  total_time = time.time() - start_time\r\n",
        "  print(\"threads used: \", th)\r\n",
        "  print(\"total time: \", total_time)\r\n",
        "  print(\"--------------------------------\\n\")"
      ],
      "execution_count": 28,
      "outputs": [
        {
          "output_type": "stream",
          "text": [
            "threads used:  1\n",
            "total time:  0.4114668369293213\n",
            "--------------------------------\n",
            "\n",
            "threads used:  11\n",
            "total time:  0.4166750907897949\n",
            "--------------------------------\n",
            "\n",
            "threads used:  21\n",
            "total time:  0.4210779666900635\n",
            "--------------------------------\n",
            "\n",
            "threads used:  31\n",
            "total time:  0.4156806468963623\n",
            "--------------------------------\n",
            "\n",
            "threads used:  41\n",
            "total time:  0.4064140319824219\n",
            "--------------------------------\n",
            "\n",
            "threads used:  51\n",
            "total time:  0.4196648597717285\n",
            "--------------------------------\n",
            "\n",
            "threads used:  61\n",
            "total time:  0.4105205535888672\n",
            "--------------------------------\n",
            "\n",
            "threads used:  71\n",
            "total time:  0.4091367721557617\n",
            "--------------------------------\n",
            "\n",
            "threads used:  81\n",
            "total time:  0.42309069633483887\n",
            "--------------------------------\n",
            "\n",
            "threads used:  91\n",
            "total time:  0.4225177764892578\n",
            "--------------------------------\n",
            "\n",
            "threads used:  101\n",
            "total time:  0.43602442741394043\n",
            "--------------------------------\n",
            "\n",
            "threads used:  111\n",
            "total time:  0.4146921634674072\n",
            "--------------------------------\n",
            "\n",
            "threads used:  121\n",
            "total time:  0.4094812870025635\n",
            "--------------------------------\n",
            "\n",
            "threads used:  131\n",
            "total time:  0.4270632266998291\n",
            "--------------------------------\n",
            "\n",
            "threads used:  141\n",
            "total time:  0.4007086753845215\n",
            "--------------------------------\n",
            "\n",
            "threads used:  151\n",
            "total time:  0.4172627925872803\n",
            "--------------------------------\n",
            "\n",
            "threads used:  161\n",
            "total time:  0.4392368793487549\n",
            "--------------------------------\n",
            "\n",
            "threads used:  171\n",
            "total time:  0.4178938865661621\n",
            "--------------------------------\n",
            "\n",
            "threads used:  181\n",
            "total time:  0.42052602767944336\n",
            "--------------------------------\n",
            "\n",
            "threads used:  191\n",
            "total time:  0.4240713119506836\n",
            "--------------------------------\n",
            "\n",
            "CPU times: user 7.68 s, sys: 159 ms, total: 7.84 s\n",
            "Wall time: 8.37 s\n"
          ],
          "name": "stdout"
        }
      ]
    },
    {
      "cell_type": "code",
      "metadata": {
        "id": "dfIt2i7W4j4K"
      },
      "source": [
        ""
      ],
      "execution_count": null,
      "outputs": []
    }
  ]
}