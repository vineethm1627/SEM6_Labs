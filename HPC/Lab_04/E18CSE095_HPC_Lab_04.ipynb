{
  "nbformat": 4,
  "nbformat_minor": 0,
  "metadata": {
    "colab": {
      "name": "E18CSE095_HPC_Lab_04.ipynb",
      "provenance": [],
      "collapsed_sections": []
    },
    "kernelspec": {
      "name": "python3",
      "display_name": "Python 3"
    }
  },
  "cells": [
    {
      "cell_type": "markdown",
      "metadata": {
        "id": "cKxf0gWFFHdH"
      },
      "source": [
        "## Task Parallelism"
      ]
    },
    {
      "cell_type": "markdown",
      "metadata": {
        "id": "uRMx5TahGv8Q"
      },
      "source": [
        "Scenario: Rahul and Narendra are two good friends. Rahul wanted to hack the\r\n",
        "password of Narendra’s Insta account just for fun. Password is an English word from\r\n",
        "this dictionary.\r\n",
        "https://raw.githubusercontent.com/dwyl/english-words/master/words.txt.\r\n",
        "He cannot try out all the words from the dictionary as each try will take at least 30\r\n",
        "seconds. But he knows the following clues about password.\r\n",
        "1. Clue 1: The word has highest similarity with other words in dictionary. Similarity\r\n",
        "between two words is defined by number of common characters.\r\n",
        "2. Clue 2: The word has large number of vowels in it.\r\n",
        "3. Clue 3: The word has large number of characters in it.\r\n",
        "Create 3 independent word lists ranking words based on each clue. Finally rank each\r\n",
        "word based on their position (weightage of 0.33 for each clue) in these 3 lists. Come\r\n",
        "up with top 100 potential words based on final rank.\r\n"
      ]
    },
    {
      "cell_type": "code",
      "metadata": {
        "colab": {
          "base_uri": "https://localhost:8080/"
        },
        "id": "8cdaL7MkGxaI",
        "outputId": "4c33cda7-7bbb-44c4-8f67-efb91db360f4"
      },
      "source": [
        "# download the data\r\n",
        "!wget https://raw.githubusercontent.com/dwyl/english-words/master/words.txt"
      ],
      "execution_count": 1,
      "outputs": [
        {
          "output_type": "stream",
          "text": [
            "--2021-02-09 17:25:22--  https://raw.githubusercontent.com/dwyl/english-words/master/words.txt\n",
            "Resolving raw.githubusercontent.com (raw.githubusercontent.com)... 151.101.0.133, 151.101.64.133, 151.101.128.133, ...\n",
            "Connecting to raw.githubusercontent.com (raw.githubusercontent.com)|151.101.0.133|:443... connected.\n",
            "HTTP request sent, awaiting response... 200 OK\n",
            "Length: 4862992 (4.6M) [text/plain]\n",
            "Saving to: ‘words.txt’\n",
            "\n",
            "words.txt           100%[===================>]   4.64M  --.-KB/s    in 0.1s    \n",
            "\n",
            "2021-02-09 17:25:23 (33.8 MB/s) - ‘words.txt’ saved [4862992/4862992]\n",
            "\n"
          ],
          "name": "stdout"
        }
      ]
    },
    {
      "cell_type": "code",
      "metadata": {
        "id": "dcqgeac4EgE5"
      },
      "source": [
        "# load the data\r\n",
        "data = []\r\n",
        "with open(\"words.txt\", \"r\") as file:\r\n",
        "  for line in file:\r\n",
        "    for word in line.split():\r\n",
        "      data.append(word)"
      ],
      "execution_count": 2,
      "outputs": []
    },
    {
      "cell_type": "code",
      "metadata": {
        "colab": {
          "base_uri": "https://localhost:8080/"
        },
        "id": "ZTyOWOcYIEpb",
        "outputId": "610ad16e-3ae4-4d7e-9e2e-70fe91be43ca"
      },
      "source": [
        "print(len(data))\r\n",
        "print(data[100: 110])"
      ],
      "execution_count": 3,
      "outputs": [
        {
          "output_type": "stream",
          "text": [
            "466550\n",
            "['aals', 'Aalst', 'Aalto', 'AAM', 'AAMSI', 'Aandahl', 'A-and-R', 'Aani', 'AAO', 'AAP']\n"
          ],
          "name": "stdout"
        }
      ]
    },
    {
      "cell_type": "code",
      "metadata": {
        "id": "NaYlDjboI1jE",
        "colab": {
          "base_uri": "https://localhost:8080/"
        },
        "outputId": "029db4c6-e315-4af9-c121-cff56621510d"
      },
      "source": [
        "size = len(data)\r\n",
        "print(size)"
      ],
      "execution_count": 4,
      "outputs": [
        {
          "output_type": "stream",
          "text": [
            "466550\n"
          ],
          "name": "stdout"
        }
      ]
    },
    {
      "cell_type": "markdown",
      "metadata": {
        "id": "CAJoCBKXGxtE"
      },
      "source": [
        "### Clue-1"
      ]
    },
    {
      "cell_type": "code",
      "metadata": {
        "colab": {
          "base_uri": "https://localhost:8080/"
        },
        "id": "zWBi-xPxJB1E",
        "outputId": "d43a4cb6-82eb-453a-d4db-45f70e106305"
      },
      "source": [
        "# we can create tuples to store the word--> average of similarity with all other words\r\n",
        "tup = []\r\n",
        "tup.append(tuple([3,5]))\r\n",
        "tup.append((5, 6))\r\n",
        "print(len(tup))\r\n",
        "print(tup)"
      ],
      "execution_count": 5,
      "outputs": [
        {
          "output_type": "stream",
          "text": [
            "2\n",
            "[(3, 5), (5, 6)]\n"
          ],
          "name": "stdout"
        }
      ]
    },
    {
      "cell_type": "code",
      "metadata": {
        "id": "XmSqIbTOJlAM"
      },
      "source": [
        "# similarity function for counting the common characters in the 2 words\r\n",
        "def similarity(word1, word2):\r\n",
        "  #return len(set(word1).intersection(set(word2)))\r\n",
        "  f_word1, f_word2 = [0] * 256, [0] * 256\r\n",
        "\r\n",
        "  count = 0\r\n",
        "  for i in range(len(word1)):\r\n",
        "    f_word1[ord(word1[i])] += 1\r\n",
        "  \r\n",
        "  for i in range(len(word2)):\r\n",
        "    f_word2[ord(word2[i])] += 1\r\n",
        "  \r\n",
        "  # find the count of common characters\r\n",
        "  for i in range(256):\r\n",
        "    count += min(f_word1[i], f_word2[i])\r\n",
        "  \r\n",
        "  return count"
      ],
      "execution_count": 6,
      "outputs": []
    },
    {
      "cell_type": "code",
      "metadata": {
        "colab": {
          "base_uri": "https://localhost:8080/"
        },
        "id": "WIan9ZhdKbrB",
        "outputId": "a026925b-bb83-416c-8ee2-2cc5bf0d8d70"
      },
      "source": [
        "# checking the working state of the function\r\n",
        "print(similarity(\"aaab\", \"aaaa\"))\r\n",
        "print(similarity(\"abbb\", \"aaaa\"))\r\n",
        "print(similarity(\"AaBB\", \"Abba\"))"
      ],
      "execution_count": 7,
      "outputs": [
        {
          "output_type": "stream",
          "text": [
            "3\n",
            "1\n",
            "2\n"
          ],
          "name": "stdout"
        }
      ]
    },
    {
      "cell_type": "code",
      "metadata": {
        "id": "4HHNF_0jIdW5"
      },
      "source": [
        "words_similarity = {}\r\n",
        "for w1 in data[100: 600]:\r\n",
        "  avg = 0\r\n",
        "  for w2 in data[100: 600]:\r\n",
        "    avg += similarity(w1, w2)\r\n",
        "  \r\n",
        "  words_similarity[w1] = avg / size"
      ],
      "execution_count": 8,
      "outputs": []
    },
    {
      "cell_type": "code",
      "metadata": {
        "colab": {
          "base_uri": "https://localhost:8080/"
        },
        "id": "xv0IzIL8Mz3o",
        "outputId": "3ddd3915-c102-4cfa-ff19-f6cfa00b2c84"
      },
      "source": [
        "print(len(words_similarity))\r\n",
        "for word in data[100: 110]:\r\n",
        "  print(word, words_similarity[word])"
      ],
      "execution_count": 9,
      "outputs": [
        {
          "output_type": "stream",
          "text": [
            "500\n",
            "aals 0.002068374236416247\n",
            "Aalst 0.0022312721037402207\n",
            "Aalto 0.0021776872789625976\n",
            "AAM 0.00037295038045225595\n",
            "AAMSI 0.00038795413138999034\n",
            "Aandahl 0.002854999464151752\n",
            "A-and-R 0.0020083592326653093\n",
            "Aani 0.0020447969135140927\n",
            "AAO 0.000370806987461151\n",
            "AAP 0.00037723716643446576\n"
          ],
          "name": "stdout"
        }
      ]
    },
    {
      "cell_type": "code",
      "metadata": {
        "id": "ZSCXKttEQsKa"
      },
      "source": [
        "# sorting the dictionary based on the similarity index\r\n",
        "words_similarity = sorted(words_similarity.items(), key = lambda x: x[1], reverse = True)"
      ],
      "execution_count": 10,
      "outputs": []
    },
    {
      "cell_type": "code",
      "metadata": {
        "id": "OnE0_eQRuyWD"
      },
      "source": [
        "words_similarity = dict(words_similarity)"
      ],
      "execution_count": 11,
      "outputs": []
    },
    {
      "cell_type": "code",
      "metadata": {
        "colab": {
          "base_uri": "https://localhost:8080/"
        },
        "id": "UiYW7AKTQ8XW",
        "outputId": "ca3d8b4e-3a16-4df0-d2e4-66fa1dbd5030"
      },
      "source": [
        "for i, word in enumerate(words_similarity):\r\n",
        "  if(i > 5):\r\n",
        "    break\r\n",
        "  print(word, words_similarity[word])"
      ],
      "execution_count": 12,
      "outputs": [
        {
          "output_type": "stream",
          "text": [
            "abdominohysterectomy 0.00595648912228057\n",
            "abdominoanterior 0.0056456971385703564\n",
            "abdominovesical 0.005622119815668203\n",
            "abbreviations 0.005583538741828314\n",
            "abdominohysterotomy 0.005553531239952845\n",
            "abdominocentesis 0.0054763690922730686\n"
          ],
          "name": "stdout"
        }
      ]
    },
    {
      "cell_type": "code",
      "metadata": {
        "id": "TpI3Gx19OUX9"
      },
      "source": [
        "# running on full data\r\n",
        "# %%time\r\n",
        "# for w1 in data:\r\n",
        "#   avg = 0\r\n",
        "#   for w2 in data:\r\n",
        "#     avg += similarity(w1, w2)\r\n",
        "  \r\n",
        "#   words_similarity.append(tuple([w1, avg / size]))"
      ],
      "execution_count": 13,
      "outputs": []
    },
    {
      "cell_type": "markdown",
      "metadata": {
        "id": "VBDpbVO3RfYc"
      },
      "source": [
        "### Clue-2"
      ]
    },
    {
      "cell_type": "code",
      "metadata": {
        "id": "B-yLnhwSO12o"
      },
      "source": [
        "# function to return number of vowels in a word\r\n",
        "def vowels(word):\r\n",
        "  count = 0\r\n",
        "  vowels_list = ['a', 'A', 'e', 'E', 'i', 'I', 'o', 'O', 'u', 'U']\r\n",
        "  for ch in word:\r\n",
        "    if(ch in vowels_list):\r\n",
        "      count += 1\r\n",
        "  \r\n",
        "  return count"
      ],
      "execution_count": 14,
      "outputs": []
    },
    {
      "cell_type": "code",
      "metadata": {
        "colab": {
          "base_uri": "https://localhost:8080/"
        },
        "id": "UBO-_feRSYwZ",
        "outputId": "a8456cd9-9699-4342-c245-6596beaaa7c5"
      },
      "source": [
        "# checking the function\r\n",
        "print(vowels(\"aeiou\"))\r\n",
        "print(vowels(\"AAAE\"))\r\n",
        "print(vowels(\"bdfgh\"))"
      ],
      "execution_count": 15,
      "outputs": [
        {
          "output_type": "stream",
          "text": [
            "5\n",
            "4\n",
            "0\n"
          ],
          "name": "stdout"
        }
      ]
    },
    {
      "cell_type": "code",
      "metadata": {
        "id": "OhNa9sUGSjr6"
      },
      "source": [
        "words_vowels = {}\r\n",
        "\r\n",
        "for w1 in data:\r\n",
        "  words_vowels[w1] = vowels(w1)"
      ],
      "execution_count": 16,
      "outputs": []
    },
    {
      "cell_type": "code",
      "metadata": {
        "colab": {
          "base_uri": "https://localhost:8080/"
        },
        "id": "A6XnGmA-St-6",
        "outputId": "a5cc9308-9af1-4723-eabc-7bf475223fe1"
      },
      "source": [
        "print(len(words_vowels))\r\n",
        "for i in data[100:110]:\r\n",
        "  print(i, words_vowels[i])"
      ],
      "execution_count": 17,
      "outputs": [
        {
          "output_type": "stream",
          "text": [
            "466550\n",
            "aals 2\n",
            "Aalst 2\n",
            "Aalto 3\n",
            "AAM 2\n",
            "AAMSI 3\n",
            "Aandahl 3\n",
            "A-and-R 2\n",
            "Aani 3\n",
            "AAO 3\n",
            "AAP 2\n"
          ],
          "name": "stdout"
        }
      ]
    },
    {
      "cell_type": "code",
      "metadata": {
        "id": "9jKuVNlhS166"
      },
      "source": [
        "# sorting the dictionary based on the similarity index\r\n",
        "words_vowels = sorted(words_vowels.items(), key = lambda x: x[1], reverse = True)"
      ],
      "execution_count": 18,
      "outputs": []
    },
    {
      "cell_type": "code",
      "metadata": {
        "id": "2V1zQ1XEviO1"
      },
      "source": [
        "words_vowels = dict(words_vowels)"
      ],
      "execution_count": 19,
      "outputs": []
    },
    {
      "cell_type": "code",
      "metadata": {
        "colab": {
          "base_uri": "https://localhost:8080/"
        },
        "id": "SnpXfGHsTK8i",
        "outputId": "ac45da91-76aa-4c73-e93e-55ecb32958f6"
      },
      "source": [
        "for i, word in enumerate(words_vowels):\r\n",
        "  if(i > 5):\r\n",
        "    break\r\n",
        "  print(word, words_vowels[word])"
      ],
      "execution_count": 20,
      "outputs": [
        {
          "output_type": "stream",
          "text": [
            "pneumonoultramicroscopicsilicovolcanoconiosis 20\n",
            "humuhumunukunukuapuaa 12\n",
            "aminoacetophenetidine 11\n",
            "antidisestablishmentarianism 11\n",
            "autoxidation-reduction 11\n",
            "counterrevolutionaries 11\n"
          ],
          "name": "stdout"
        }
      ]
    },
    {
      "cell_type": "markdown",
      "metadata": {
        "id": "XXeFdjtlTReb"
      },
      "source": [
        "### Clue-3"
      ]
    },
    {
      "cell_type": "code",
      "metadata": {
        "id": "H2UHX1mLTNzl"
      },
      "source": [
        "words_chars = {}\r\n",
        "\r\n",
        "for w1 in data:\r\n",
        "  words_chars[w1] = len(w1)"
      ],
      "execution_count": 21,
      "outputs": []
    },
    {
      "cell_type": "code",
      "metadata": {
        "colab": {
          "base_uri": "https://localhost:8080/"
        },
        "id": "gkMoErSOTa9h",
        "outputId": "eca4a854-fd36-4674-b7d9-384846ae6e62"
      },
      "source": [
        "print(len(words_chars))\r\n",
        "for i in data[100:110]:\r\n",
        "  print(i, words_chars[i])"
      ],
      "execution_count": 22,
      "outputs": [
        {
          "output_type": "stream",
          "text": [
            "466550\n",
            "aals 4\n",
            "Aalst 5\n",
            "Aalto 5\n",
            "AAM 3\n",
            "AAMSI 5\n",
            "Aandahl 7\n",
            "A-and-R 7\n",
            "Aani 4\n",
            "AAO 3\n",
            "AAP 3\n"
          ],
          "name": "stdout"
        }
      ]
    },
    {
      "cell_type": "code",
      "metadata": {
        "id": "Be1rVIuATlJb"
      },
      "source": [
        "# sort the dictionary based on the decreasing character length\r\n",
        "words_chars = sorted(words_chars.items(), key = lambda x: x[1], reverse = True)"
      ],
      "execution_count": 23,
      "outputs": []
    },
    {
      "cell_type": "code",
      "metadata": {
        "id": "tmHeYiZUwY05"
      },
      "source": [
        "words_chars = dict(words_chars)"
      ],
      "execution_count": 24,
      "outputs": []
    },
    {
      "cell_type": "code",
      "metadata": {
        "colab": {
          "base_uri": "https://localhost:8080/"
        },
        "id": "JwBd8FwjTv8R",
        "outputId": "9ebbb6d8-b8e4-4d2b-8bf3-8f972466c844"
      },
      "source": [
        "for i, word in enumerate(words_chars):\r\n",
        "  if(i > 5):\r\n",
        "    break\r\n",
        "  print(word, words_chars[word])"
      ],
      "execution_count": 25,
      "outputs": [
        {
          "output_type": "stream",
          "text": [
            "pneumonoultramicroscopicsilicovolcanoconiosis 45\n",
            "dichlorodiphenyltrichloroethane 31\n",
            "cyclotrimethylenetrinitramine 29\n",
            "trinitrophenylmethylnitramine 29\n",
            "antidisestablishmentarianism 28\n",
            "hydroxydehydrocorticosterone 28\n"
          ],
          "name": "stdout"
        }
      ]
    },
    {
      "cell_type": "markdown",
      "metadata": {
        "id": "r7zH_uJKU5BF"
      },
      "source": [
        "## Merging 3 lists into 1"
      ]
    },
    {
      "cell_type": "code",
      "metadata": {
        "colab": {
          "base_uri": "https://localhost:8080/"
        },
        "id": "MW3Ygur2jh5h",
        "outputId": "4484a9eb-08d6-42f4-df76-b9493a5ad3df"
      },
      "source": [
        "word = data[500]\r\n",
        "print(word)\r\n",
        "print(words_similarity[word])\r\n",
        "print(words_vowels[word])\r\n",
        "print(words_chars[word])"
      ],
      "execution_count": 26,
      "outputs": [
        {
          "output_type": "stream",
          "text": [
            "Abelite\n",
            "0.003047904833351195\n",
            "4\n",
            "7\n"
          ],
          "name": "stdout"
        }
      ]
    },
    {
      "cell_type": "code",
      "metadata": {
        "id": "mY6qXKF6Wtjy",
        "colab": {
          "base_uri": "https://localhost:8080/"
        },
        "outputId": "382b0a92-e24a-4d1e-dc50-7e5da3bcacb1"
      },
      "source": [
        "%%time\r\n",
        "final_list = {}\r\n",
        "\r\n",
        "for word in data[100: 600]:\r\n",
        "  contribution = 0.0\r\n",
        "  contribution = (words_similarity[word] + words_vowels[word] + words_chars[word]) * 0.33\r\n",
        "  final_list[word] = contribution"
      ],
      "execution_count": 27,
      "outputs": [
        {
          "output_type": "stream",
          "text": [
            "CPU times: user 724 µs, sys: 0 ns, total: 724 µs\n",
            "Wall time: 734 µs\n"
          ],
          "name": "stdout"
        }
      ]
    },
    {
      "cell_type": "code",
      "metadata": {
        "colab": {
          "base_uri": "https://localhost:8080/"
        },
        "id": "u7dT8hYXxwoS",
        "outputId": "c3b7e09c-dacd-4229-fc80-fef7128eda1b"
      },
      "source": [
        "print(len(final_list))\r\n",
        "for i in data[100:110]:\r\n",
        "  print(i, final_list[i])"
      ],
      "execution_count": 28,
      "outputs": [
        {
          "output_type": "stream",
          "text": [
            "500\n",
            "aals 1.9806825634980172\n",
            "Aalst 2.3107363197942346\n",
            "Aalto 2.640718636802058\n",
            "AAM 1.6501230736255492\n",
            "AAMSI 2.640128024863359\n",
            "Aandahl 3.3009421498231704\n",
            "A-and-R 2.9706627585467795\n",
            "Aani 2.31067478298146\n",
            "AAO 1.9801223663058622\n",
            "AAP 1.6501244882649233\n"
          ],
          "name": "stdout"
        }
      ]
    },
    {
      "cell_type": "code",
      "metadata": {
        "id": "eLI6UiEjx4Vg"
      },
      "source": [
        "# sort the dictionary based on the contribution index\r\n",
        "final_list = sorted(final_list.items(), key = lambda x: x[1], reverse = True)"
      ],
      "execution_count": 29,
      "outputs": []
    },
    {
      "cell_type": "code",
      "metadata": {
        "id": "f6BMV9xIyDgk"
      },
      "source": [
        "final_list = dict(final_list)"
      ],
      "execution_count": 30,
      "outputs": []
    },
    {
      "cell_type": "code",
      "metadata": {
        "colab": {
          "base_uri": "https://localhost:8080/"
        },
        "id": "J4dmUQ0TyKsY",
        "outputId": "1421a918-916d-4b5e-ce39-887c1032d5ad"
      },
      "source": [
        "for i, word in enumerate(final_list):\r\n",
        "  if(i > 10):\r\n",
        "    break\r\n",
        "  print(word, final_list[word])"
      ],
      "execution_count": 31,
      "outputs": [
        {
          "output_type": "stream",
          "text": [
            "abdominohysterectomy 8.911965641410353\n",
            "abdominohysterotomy 8.581832665309186\n",
            "abdomino-uterotomy 8.581718079519879\n",
            "abdominoposterior 8.251795884685457\n",
            "abdominoanterior 7.921863080055728\n",
            "abdominocentesis 7.591807201800449\n",
            "abdominothoracic 7.591742128389241\n",
            "abdominovesical 7.261855299539171\n",
            "abdominogenital 7.261800835923267\n",
            "abdominocardiac 7.261612688886507\n",
            "abdominovaginal 7.261541249598115\n"
          ],
          "name": "stdout"
        }
      ]
    },
    {
      "cell_type": "code",
      "metadata": {
        "id": "GSlfvnqNyRWU"
      },
      "source": [
        "# picking the top 100 elements\r\n",
        "\r\n",
        "potential_words = []\r\n",
        "\r\n",
        "for i, word in enumerate(final_list):\r\n",
        "  if(i > 99):\r\n",
        "    break\r\n",
        "  \r\n",
        "  potential_words.append(word)"
      ],
      "execution_count": 32,
      "outputs": []
    },
    {
      "cell_type": "code",
      "metadata": {
        "colab": {
          "base_uri": "https://localhost:8080/"
        },
        "id": "9ahzFtPLyu-Z",
        "outputId": "27a60e54-79ce-478d-d700-b06db433cb96"
      },
      "source": [
        "print(len(potential_words))\r\n",
        "print(potential_words[:10])"
      ],
      "execution_count": 33,
      "outputs": [
        {
          "output_type": "stream",
          "text": [
            "100\n",
            "['abdominohysterectomy', 'abdominohysterotomy', 'abdomino-uterotomy', 'abdominoposterior', 'abdominoanterior', 'abdominocentesis', 'abdominothoracic', 'abdominovesical', 'abdominogenital', 'abdominocardiac']\n"
          ],
          "name": "stdout"
        }
      ]
    },
    {
      "cell_type": "markdown",
      "metadata": {
        "id": "h7tY_6r_zdlv"
      },
      "source": [
        "## Parallel Implementation"
      ]
    },
    {
      "cell_type": "code",
      "metadata": {
        "colab": {
          "base_uri": "https://localhost:8080/"
        },
        "id": "BkSGKMHp10uS",
        "outputId": "023b067c-f4b5-4c1b-987d-1dbe8af73135"
      },
      "source": [
        "!pip install pymp-pypi"
      ],
      "execution_count": 37,
      "outputs": [
        {
          "output_type": "stream",
          "text": [
            "Collecting pymp-pypi\n",
            "  Downloading https://files.pythonhosted.org/packages/e9/ff/8ec07d0c901d4161012ae505d47b459dd30d5112b8ba4abca33811e62243/pymp_pypi-0.4.3-py3-none-any.whl\n",
            "Installing collected packages: pymp-pypi\n",
            "Successfully installed pymp-pypi-0.4.3\n"
          ],
          "name": "stdout"
        }
      ]
    },
    {
      "cell_type": "code",
      "metadata": {
        "colab": {
          "base_uri": "https://localhost:8080/"
        },
        "id": "PktqK36m24_4",
        "outputId": "53ca822c-35a1-4a1c-d348-768a11c07445"
      },
      "source": [
        "# checking the cores and number of threads\r\n",
        "with pymp.Parallel() as p:\r\n",
        "  p.print(\"thread number: \", p.thread_num)\r\n",
        "  p.print(\"number of threads: \", p.num_threads)"
      ],
      "execution_count": 44,
      "outputs": [
        {
          "output_type": "stream",
          "text": [
            "thread number:  0\n",
            "number of threads:  2\n",
            "thread number:  1\n",
            "number of threads:  2\n"
          ],
          "name": "stdout"
        }
      ]
    },
    {
      "cell_type": "code",
      "metadata": {
        "id": "oW7xye5lyzoQ"
      },
      "source": [
        "import pymp\r\n",
        "\r\n",
        "def clue1():\r\n",
        "  with pymp.Parallel() as p:\r\n",
        "    for w1 in data[100: 600]:\r\n",
        "      avg = 0\r\n",
        "      for w2 in data[100: 600]:\r\n",
        "        avg += similarity(w1, w2)\r\n",
        "  \r\n",
        "      words_similarity[w1] = avg / size"
      ],
      "execution_count": 40,
      "outputs": []
    },
    {
      "cell_type": "code",
      "metadata": {
        "colab": {
          "base_uri": "https://localhost:8080/"
        },
        "id": "OZvHU9W62Nyg",
        "outputId": "d39cefb7-ca9c-4dec-b039-672cd0f711db"
      },
      "source": [
        "%%time\r\n",
        "words_similarity = pymp.shared.dict()\r\n",
        "clue1()\r\n",
        "\r\n",
        "# sort the dictionary\r\n",
        "words_similarity = dict(sorted(words_similarity.items(), key = lambda x: x[1], reverse = True))"
      ],
      "execution_count": 49,
      "outputs": [
        {
          "output_type": "stream",
          "text": [
            "CPU times: user 26.4 s, sys: 25.8 ms, total: 26.4 s\n",
            "Wall time: 27 s\n"
          ],
          "name": "stdout"
        }
      ]
    },
    {
      "cell_type": "code",
      "metadata": {
        "colab": {
          "base_uri": "https://localhost:8080/"
        },
        "id": "iSqiNGnC2U1w",
        "outputId": "c71bc105-1691-4cb5-82a0-9d1e216adf2f"
      },
      "source": [
        "for i, word in enumerate(words_similarity):\r\n",
        "  if(i > 10):\r\n",
        "    break\r\n",
        "  print(word, words_similarity[word])"
      ],
      "execution_count": 50,
      "outputs": [
        {
          "output_type": "stream",
          "text": [
            "abdominohysterectomy 0.00595648912228057\n",
            "abdominoanterior 0.0056456971385703564\n",
            "abdominovesical 0.005622119815668203\n",
            "abbreviations 0.005583538741828314\n",
            "abdominohysterotomy 0.005553531239952845\n",
            "abdominocentesis 0.0054763690922730686\n",
            "abdominogenital 0.005457078555353124\n",
            "abdominoposterior 0.005442074804415389\n",
            "abecedarians 0.005412067302539921\n",
            "aberrations 0.005362769263744508\n",
            "aberrational 0.00530275425999357\n"
          ],
          "name": "stdout"
        }
      ]
    },
    {
      "cell_type": "code",
      "metadata": {
        "id": "1zbXwzLQ1W4k"
      },
      "source": [
        "def clue2():\r\n",
        "  with pymp.Parallel() as p:\r\n",
        "    for w1 in p.range(0, len(data)):\r\n",
        "      words_vowels[data[w1]] = vowels(data[w1])"
      ],
      "execution_count": 42,
      "outputs": []
    },
    {
      "cell_type": "code",
      "metadata": {
        "colab": {
          "base_uri": "https://localhost:8080/"
        },
        "id": "xFwp2nIZ2c80",
        "outputId": "99674fca-c0e6-4a6a-a8df-12e9c6f27401"
      },
      "source": [
        "%%time\r\n",
        "words_vowels = pymp.shared.dict()\r\n",
        "clue2()\r\n",
        "\r\n",
        "# sort the dictionary\r\n",
        "words_vowels = dict(sorted(words_vowels.items(), key = lambda x: x[1], reverse = True))"
      ],
      "execution_count": 51,
      "outputs": [
        {
          "output_type": "stream",
          "text": [
            "CPU times: user 6.92 s, sys: 2.46 s, total: 9.38 s\n",
            "Wall time: 20.4 s\n"
          ],
          "name": "stdout"
        }
      ]
    },
    {
      "cell_type": "code",
      "metadata": {
        "colab": {
          "base_uri": "https://localhost:8080/"
        },
        "id": "NvjVSkKp2vSo",
        "outputId": "33d23883-55b9-4b91-cda5-e384cff0a558"
      },
      "source": [
        "for i, word in enumerate(words_vowels):\r\n",
        "  if(i > 10):\r\n",
        "    break\r\n",
        "  print(word, words_vowels[word])"
      ],
      "execution_count": 53,
      "outputs": [
        {
          "output_type": "stream",
          "text": [
            "pneumonoultramicroscopicsilicovolcanoconiosis 20\n",
            "humuhumunukunukuapuaa 12\n",
            "aminoacetophenetidine 11\n",
            "antidisestablishmentarianism 11\n",
            "autoxidation-reduction 11\n",
            "overindividualization 11\n",
            "overintellectualization 11\n",
            "palaeometeorological 11\n",
            "pericardiomediastinitis 11\n",
            "pseudointernationalistic 11\n",
            "counterrevolutionaries 11\n"
          ],
          "name": "stdout"
        }
      ]
    },
    {
      "cell_type": "code",
      "metadata": {
        "id": "zGxASQy02wSV"
      },
      "source": [
        "def clue3():\r\n",
        "  with pymp.Parallel() as p:\r\n",
        "    for w1 in p.range(0, len(data)):\r\n",
        "      words_chars[data[w1]] = len(data[w1])"
      ],
      "execution_count": 45,
      "outputs": []
    },
    {
      "cell_type": "code",
      "metadata": {
        "colab": {
          "base_uri": "https://localhost:8080/"
        },
        "id": "kNs6xCFI3klt",
        "outputId": "1e7da213-6d26-47d6-82c6-882d41de9e5a"
      },
      "source": [
        "%%time\r\n",
        "words_chars = pymp.shared.dict()\r\n",
        "clue3()\r\n",
        "\r\n",
        "# sort the dictionary\r\n",
        "words_chars = dict(sorted(words_chars.items(), key = lambda x: x[1], reverse = True))"
      ],
      "execution_count": 54,
      "outputs": [
        {
          "output_type": "stream",
          "text": [
            "CPU times: user 6.14 s, sys: 2.14 s, total: 8.28 s\n",
            "Wall time: 18.2 s\n"
          ],
          "name": "stdout"
        }
      ]
    },
    {
      "cell_type": "code",
      "metadata": {
        "colab": {
          "base_uri": "https://localhost:8080/"
        },
        "id": "hxdCryKW3uu8",
        "outputId": "c459ad1a-625f-4bdd-946c-900c9868330b"
      },
      "source": [
        "for i, word in enumerate(words_chars):\r\n",
        "  if(i > 10):\r\n",
        "    break\r\n",
        "  print(word, words_chars[word])"
      ],
      "execution_count": 55,
      "outputs": [
        {
          "output_type": "stream",
          "text": [
            "pneumonoultramicroscopicsilicovolcanoconiosis 45\n",
            "dichlorodiphenyltrichloroethane 31\n",
            "cyclotrimethylenetrinitramine 29\n",
            "trinitrophenylmethylnitramine 29\n",
            "antidisestablishmentarianism 28\n",
            "hydroxydehydrocorticosterone 28\n",
            "microspectrophotometrically 27\n",
            "electroencephalographically 27\n",
            "hydroxydesoxycorticosterone 27\n",
            "Mentor-on-the-Lake-Village 26\n",
            "straight-from-the-shoulder 26\n"
          ],
          "name": "stdout"
        }
      ]
    },
    {
      "cell_type": "code",
      "metadata": {
        "id": "MMzCUwDj4pyY"
      },
      "source": [
        "def merge():\r\n",
        "  with pymp.Parallel() as p:\r\n",
        "    for i in p.range(100, 600):\r\n",
        "      contribution = 0\r\n",
        "      contribution = (words_similarity[data[i]] + words_vowels[data[i]] + words_chars[data[i]]) * 0.33\r\n",
        "      final_list[data[i]] = contribution"
      ],
      "execution_count": 56,
      "outputs": []
    },
    {
      "cell_type": "code",
      "metadata": {
        "colab": {
          "base_uri": "https://localhost:8080/"
        },
        "id": "WTmDMNAe5SAm",
        "outputId": "12b146f2-281e-4826-ccca-979fbf7a3f82"
      },
      "source": [
        "%%time\r\n",
        "final_list = pymp.shared.dict()\r\n",
        "merge()\r\n",
        "\r\n",
        "# sort the dictionary\r\n",
        "\r\n",
        "final_list = dict(sorted(final_list.items(), key = lambda x: x[1], reverse = True))"
      ],
      "execution_count": 57,
      "outputs": [
        {
          "output_type": "stream",
          "text": [
            "CPU times: user 15.8 ms, sys: 16 ms, total: 31.8 ms\n",
            "Wall time: 86.1 ms\n"
          ],
          "name": "stdout"
        }
      ]
    },
    {
      "cell_type": "code",
      "metadata": {
        "colab": {
          "base_uri": "https://localhost:8080/"
        },
        "id": "4K-wSqXN57fc",
        "outputId": "274b5c90-9832-4b0b-8bc2-4ffa4efa4677"
      },
      "source": [
        "for i, word in enumerate(final_list):\r\n",
        "  if(i > 10):\r\n",
        "    break\r\n",
        "  print(word, final_list[word])"
      ],
      "execution_count": 58,
      "outputs": [
        {
          "output_type": "stream",
          "text": [
            "abdominohysterectomy 8.911965641410353\n",
            "abdominohysterotomy 8.581832665309186\n",
            "abdomino-uterotomy 8.581718079519879\n",
            "abdominoposterior 8.251795884685457\n",
            "abdominoanterior 7.921863080055728\n",
            "abdominocentesis 7.591807201800449\n",
            "abdominothoracic 7.591742128389241\n",
            "abdominovesical 7.261855299539171\n",
            "abdominogenital 7.261800835923267\n",
            "abdominocardiac 7.261612688886507\n",
            "abdominovaginal 7.261541249598115\n"
          ],
          "name": "stdout"
        }
      ]
    },
    {
      "cell_type": "code",
      "metadata": {
        "id": "_eWtXKAN6Bbl"
      },
      "source": [
        "# picking the top 100 elements\r\n",
        "\r\n",
        "potential_words = []\r\n",
        "\r\n",
        "for i, word in enumerate(final_list):\r\n",
        "  if(i > 99):\r\n",
        "    break\r\n",
        "  \r\n",
        "  potential_words.append(word)"
      ],
      "execution_count": 59,
      "outputs": []
    },
    {
      "cell_type": "code",
      "metadata": {
        "colab": {
          "base_uri": "https://localhost:8080/"
        },
        "id": "XqPM2LRu6IHs",
        "outputId": "172ee67d-b4b7-482c-b6d0-871f2e07bd27"
      },
      "source": [
        "print(len(potential_words))\r\n",
        "print(potential_words[:10])"
      ],
      "execution_count": 60,
      "outputs": [
        {
          "output_type": "stream",
          "text": [
            "100\n",
            "['abdominohysterectomy', 'abdominohysterotomy', 'abdomino-uterotomy', 'abdominoposterior', 'abdominoanterior', 'abdominocentesis', 'abdominothoracic', 'abdominovesical', 'abdominogenital', 'abdominocardiac']\n"
          ],
          "name": "stdout"
        }
      ]
    },
    {
      "cell_type": "code",
      "metadata": {
        "id": "C8H1XyXa6LA0"
      },
      "source": [
        ""
      ],
      "execution_count": null,
      "outputs": []
    }
  ]
}